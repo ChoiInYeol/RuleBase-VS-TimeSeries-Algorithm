{
 "cells": [
  {
   "cell_type": "code",
   "execution_count": 67,
   "metadata": {
    "collapsed": true,
    "pycharm": {
     "is_executing": true
    }
   },
   "outputs": [],
   "source": [
    "from errors import NotFoundAlgorithm\n",
    "from statsmodels.tsa.arima.model import ARIMA\n",
    "from object import OrderObject, ConfigObject\n",
    "from sklearn.preprocessing import MinMaxScaler\n",
    "from tensorflow.keras.models import Sequential\n",
    "from tensorflow.keras.layers import Dense, LSTM, Conv1D, Lambda, Dropout\n",
    "from tensorflow.keras.losses import Huber\n",
    "from tensorflow.keras.optimizers import Adam\n",
    "from tensorflow.keras.callbacks import EarlyStopping, ModelCheckpoint\n",
    "import numpy as np\n",
    "import pandas_ta as ta\n",
    "import pandas as pd\n",
    "from sklearn.linear_model import LinearRegression\n",
    "\n",
    "#for LR\n",
    "from sklearn.linear_model import LinearRegression\n",
    "import pandas_ta as ta\n",
    "import pandas as pd\n",
    "\n",
    "class TimeSeriesAlgorithm:\n",
    "\n",
    "    @classmethod\n",
    "    def predict_close_price(cls, df, algorithm: str, feature: list):\n",
    "        if algorithm == \"lstm\":\n",
    "            return cls.predict_close_price_from_lstm(df, feature)\n",
    "\n",
    "        elif algorithm == \"xgboost\":\n",
    "            return cls.predict_close_price_from_xgboost(df, feature)\n",
    "\n",
    "        elif algorithm == \"arima\":\n",
    "            return cls.predict_close_price_from_arima(df, feature)\n",
    "\n",
    "        elif algorithm == \"lr\":\n",
    "            return cls.predict_close_price_from_lr(df, feature)\n",
    "        else:\n",
    "            raise NotFoundAlgorithm()\n",
    "\n",
    "    @staticmethod\n",
    "    def predict_close_price_from_lr(df, feature):\n",
    "        \"\"\"\n",
    "            df는 200일 동안의 1일 데이터\n",
    "            return: 당일 예측 종가\n",
    "        \"\"\"\n",
    "        model = LinearRegression()\n",
    "        \n",
    "        # TA 지표 수집 후 합치기\n",
    "        adx = df.ta.adx()\n",
    "        macd = df.ta.macd(fast=14, slow=24)\n",
    "        rsi = df.ta.rsi()\n",
    "        df = pd.concat([df, adx, macd, rsi], axis=1)\n",
    "        \n",
    "        # 이동평균선에 대한 결측치 제거\n",
    "        df = df.dropna(axis=1, how='all')\n",
    "        df = df.interpolate(method='values')\n",
    "        df = df.dropna(axis=0, how='any')\n",
    "        \n",
    "        # 길이 101인 데이터프레임 생성\n",
    "        df = df[len(df) - 101:]\n",
    "        \n",
    "        # 학습데이터 분할\n",
    "        x_train, y_train = df[:100].drop(\"close\", axis=1), df[:100][\"close\"]\n",
    "        \n",
    "        model.fit(x_train, y_train) # 100일 데이터 학습\n",
    "        \n",
    "        x_test = df[100:101].drop(\"close\", axis=1) # 예측해야 할 값 분리\n",
    "        [close_price] = model.predict(x_test)\n",
    "        \n",
    "        #print(\"predict_close_price : \", close_price)\n",
    "        #print(\"true_close_price : \", df[100:101][\"close\"][0])\n",
    "        \n",
    "        return close_price\n",
    "\n",
    "    @staticmethod\n",
    "    def predict_close_price_from_xgboost(df, feature):\n",
    "        df = df[100:]['close'] \n",
    "        close_price = None\n",
    "        return close_price\n",
    "\n",
    "    @staticmethod\n",
    "    def predict_close_price_from_arima(df, feature):\n",
    "        df = df[100:]['close']   # 100은 피팅 기간\n",
    "        model = ARIMA(df, order=(2, 1, 2))  # 최적 파라미터\n",
    "        model_fit = model.fit()\n",
    "        full_forecast = model_fit.forecast(steps=1)  # 예측 일 수\n",
    "        close_price = full_forecast[-1]\n",
    "        return close_price\n",
    "\n",
    "    @staticmethod\n",
    "    def predict_close_price_from_lstm(df, feature):\n",
    "        df = df[100:]\n",
    "\n",
    "        scaler_x = MinMaxScaler()  # MinMaxScaling\n",
    "        df[['Open', 'High', 'Low', 'Volume']] = scaler_x.fit_transform(df[['Open', 'High', 'Low', 'Volume']])\n",
    "\n",
    "        scaler_y = MinMaxScaler()  # 나중에 예측종가를 MinMaxScaling하기 전의 원래 값으로 변환하기 위해 따로 scaler_y를 만듬\n",
    "        df['Close'] = scaler_y.fit_transform(df['Close'].values.reshape(-1, 1))\n",
    "\n",
    "        # ========  LSTM 학습을 위한 데이터 생성 함수\n",
    "        def seq2dataset(df, window, horizon):\n",
    "            X = []\n",
    "            Y = []\n",
    "\n",
    "            x_val, y_val = df.drop('Close', axis=1, inplace=False), df['Close']\n",
    "            x_val = x_val.to_numpy()\n",
    "            y_val = y_val.to_numpy()\n",
    "\n",
    "            for i in range(0, len(df) - (window + horizon) + 1, 5):\n",
    "                x = x_val[i:(i + window)]\n",
    "                y = y_val[i + window + horizon - 1]\n",
    "                X.append(x)\n",
    "                Y.append(y)\n",
    "            return np.array(X), np.array(Y)\n",
    "\n",
    "        # ======== LSTM 학습 데이터셋 생성\n",
    "        # 윈도우 w와 수평선 h\n",
    "\n",
    "        w = 10  # 윈도우는 이전 요소 몇 개를 볼 것인지\n",
    "        h = 1  # 수평선은 얼마나 먼 미래를 예측할 것인지\n",
    "\n",
    "        train, test = df[:99], df[100 - w:100]\n",
    "        X_train, y_train = seq2dataset(train, w, h)\n",
    "\n",
    "        X_test, y_test = test.drop('Close', axis=1, inplace=False), test['Close']\n",
    "        X_test = X_test.to_numpy()\n",
    "        y_test = y_test.to_numpy()\n",
    "\n",
    "        X_test = X_test.reshape(1, w, 4)\n",
    "        y_test = y_test.reshape(1, w, 1)\n",
    "\n",
    "        # LSTM 모델 구축\n",
    "        model = Sequential()\n",
    "        model.add(LSTM(units=256, activation='tanh', input_shape=X_train[0].shape))\n",
    "        model.add(Dropout(0.2))\n",
    "        model.add(Dense(1))\n",
    "\n",
    "        # Sequence 학습에 비교적 좋은 퍼포먼스를 내는 Huber()를 사용한다.\n",
    "        loss = Huber()\n",
    "        optimizer = Adam(0.0005)\n",
    "        model.compile(loss=Huber(), optimizer=optimizer, metrics=['mse'])\n",
    "\n",
    "        # earlystopping은 10번 epoch통안 val_loss 개선이 없다면 학습을 멈춘다.\n",
    "        earlystopping = EarlyStopping(monitor='val_loss', patience=10)\n",
    "\n",
    "        # model fitting\n",
    "        model.fit(X_train, y_train, epochs=100, batch_size=16, validation_split=0.3, callbacks=[earlystopping], verbose=1)\n",
    "\n",
    "        # 예측\n",
    "        pred = model.predict(X_test)\n",
    "\n",
    "        # MinMaxScaling 이전의 종가로 다시 스케일링\n",
    "        rescaled_pred = scaler_y.inverse_transform(np.array(pred).reshape(-1, 1))\n",
    "\n",
    "        close_price = rescaled_pred\n",
    "        return close_price"
   ]
  },
  {
   "cell_type": "code",
<<<<<<< HEAD
   "execution_count": 68,
   "metadata": {
    "collapsed": false,
=======
   "execution_count": 2,
   "metadata": {
>>>>>>> 40964b6b010d0ad7930df3dd752a653eb3b64b9d
    "pycharm": {
     "name": "#%%\n"
    }
   },
   "outputs": [
    {
<<<<<<< HEAD
     "name": "stdout",
     "output_type": "stream",
     "text": [
      "position: Noneticker: BTC/USDTbalance: 1000amount: 0spot_future: future\n",
      "algorithm: lrfeature: ['fng', 'dollar_exchange', 'etc']condition: ['rsi', 'ma', 'noise']\n",
      "                open      high       low     close      volume\n",
      "datetime                                                      \n",
      "2021-11-19  56921.04  58333.00  55604.00  58069.51  245356.121\n",
      "2021-11-20  58069.52  59873.84  57372.00  59716.29  173697.342\n",
      "2021-11-21  59716.28  60052.82  58518.88  58661.39  143887.271\n",
      "2021-11-22  58648.87  59624.56  55600.00  56268.31  326184.881\n",
      "2021-11-23  56268.31  57888.00  55250.00  57574.23  267790.325\n",
      "...              ...       ...       ...       ...         ...\n",
      "2022-06-02  29796.90  30750.00  29566.10  30437.10  370924.687\n",
      "2022-06-03  30437.10  30693.20  29220.00  29682.80  357110.377\n",
      "2022-06-04  29682.80  29988.00  29456.00  29848.40  187520.534\n",
      "2022-06-05  29848.50  30250.00  29524.00  29909.90  205385.831\n",
      "2022-06-06  29910.00  31780.00  29876.20  31318.60  345928.940\n",
      "\n",
      "[200 rows x 5 columns]\n",
      "predict_close_price :  31749.996332809038\n",
      "true_close_price :  31318.6\n",
      "31749.996332809038\n"
=======
     "ename": "NameError",
     "evalue": "name 'OrderObject' is not defined",
     "output_type": "error",
     "traceback": [
      "\u001b[0;31m---------------------------------------------------------------------------\u001b[0m",
      "\u001b[0;31mNameError\u001b[0m                                 Traceback (most recent call last)",
      "Input \u001b[0;32mIn [2]\u001b[0m, in \u001b[0;36m<cell line: 1>\u001b[0;34m()\u001b[0m\n\u001b[0;32m----> 1\u001b[0m order_object \u001b[38;5;241m=\u001b[39m \u001b[43mOrderObject\u001b[49m()\n\u001b[1;32m      2\u001b[0m config_object \u001b[38;5;241m=\u001b[39m ConfigObject()\n\u001b[1;32m      3\u001b[0m \u001b[38;5;28mprint\u001b[39m(order_object)\n",
      "\u001b[0;31mNameError\u001b[0m: name 'OrderObject' is not defined"
>>>>>>> 40964b6b010d0ad7930df3dd752a653eb3b64b9d
     ]
    }
   ],
   "source": [
    "order_object = OrderObject()\n",
    "config_object = ConfigObject()\n",
    "print(order_object)\n",
    "print(config_object)\n",
    "\n",
    "df = order_object.get_candles_df()\n",
    "print(df)\n",
    "predicted_close = TimeSeriesAlgorithm.predict_close_price(df, config_object.algorithm, config_object.feature)\n",
    "print(predicted_close)\n"
   ]
  }
 ],
 "metadata": {
  "interpreter": {
   "hash": "147cfa67fe4a9ff204fc0d88b1fb41876cb7b45da71754ff0e08ee7b45ae42f2"
  },
  "kernelspec": {
<<<<<<< HEAD
   "display_name": "Python 3.8.8 ('bitcoin': venv)",
=======
   "display_name": "Python 3 (ipykernel)",
>>>>>>> 40964b6b010d0ad7930df3dd752a653eb3b64b9d
   "language": "python",
   "name": "python3"
  },
  "language_info": {
   "codemirror_mode": {
    "name": "ipython",
    "version": 3
   },
   "file_extension": ".py",
   "mimetype": "text/x-python",
   "name": "python",
   "nbconvert_exporter": "python",
   "pygments_lexer": "ipython3",
<<<<<<< HEAD
   "version": "3.8.8"
  }
 },
 "nbformat": 4,
 "nbformat_minor": 0
=======
   "version": "3.8.5"
  }
 },
 "nbformat": 4,
 "nbformat_minor": 1
>>>>>>> 40964b6b010d0ad7930df3dd752a653eb3b64b9d
}
