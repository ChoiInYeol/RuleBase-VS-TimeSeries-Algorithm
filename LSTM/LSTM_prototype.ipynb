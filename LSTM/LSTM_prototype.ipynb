{
 "cells": [
  {
   "cell_type": "code",
   "execution_count": 1,
   "id": "6848c2b8",
   "metadata": {},
   "outputs": [],
   "source": [
    "import pandas as pd\n",
    "import pickle"
   ]
  },
  {
   "cell_type": "code",
   "execution_count": 27,
   "id": "9564dc61",
   "metadata": {},
   "outputs": [
    {
     "name": "stdout",
     "output_type": "stream",
     "text": [
      "                   o         h         l         c             v\n",
      "ot                                                              \n",
      "2014-11-29    376.42    386.60    372.25    376.72  2.746157e+06\n",
      "2014-11-30    376.57    381.99    373.32    373.34  1.145567e+06\n",
      "2014-12-01    376.40    382.31    373.03    378.39  2.520662e+06\n",
      "2014-12-02    378.39    382.86    375.23    379.25  2.593576e+06\n",
      "2014-12-03    379.25    383.00    374.23    376.67  2.998358e+06\n",
      "...              ...       ...       ...       ...           ...\n",
      "2022-01-20  41733.21  43518.69  40554.14  40736.05  2.425153e+03\n",
      "2022-01-21  40654.72  41115.58  35423.00  36495.46  6.201046e+03\n",
      "2022-01-22  36447.37  36825.98  34000.00  35091.11  4.510372e+03\n",
      "2022-01-23  35084.79  36574.47  34624.59  36293.62  2.533704e+03\n",
      "2022-01-24  36262.21  36276.86  35917.44  35917.44  3.775357e+01\n",
      "\n",
      "[2614 rows x 5 columns]\n"
     ]
    }
   ],
   "source": [
    "with open(\"../btc_usd_1d.pkl\",\"rb\") as fr:\n",
    "    data = pickle.load(fr)\n",
    "print(data)"
   ]
  },
  {
   "cell_type": "code",
   "execution_count": 37,
   "id": "a07d3135",
   "metadata": {
    "scrolled": false
   },
   "outputs": [
    {
     "data": {
      "text/html": [
       "<div>\n",
       "<style scoped>\n",
       "    .dataframe tbody tr th:only-of-type {\n",
       "        vertical-align: middle;\n",
       "    }\n",
       "\n",
       "    .dataframe tbody tr th {\n",
       "        vertical-align: top;\n",
       "    }\n",
       "\n",
       "    .dataframe thead th {\n",
       "        text-align: right;\n",
       "    }\n",
       "</style>\n",
       "<table border=\"1\" class=\"dataframe\">\n",
       "  <thead>\n",
       "    <tr style=\"text-align: right;\">\n",
       "      <th></th>\n",
       "      <th>Open</th>\n",
       "      <th>High</th>\n",
       "      <th>Low</th>\n",
       "      <th>Close</th>\n",
       "      <th>Volume</th>\n",
       "    </tr>\n",
       "    <tr>\n",
       "      <th>ot</th>\n",
       "      <th></th>\n",
       "      <th></th>\n",
       "      <th></th>\n",
       "      <th></th>\n",
       "      <th></th>\n",
       "    </tr>\n",
       "  </thead>\n",
       "  <tbody>\n",
       "    <tr>\n",
       "      <th>2014-11-29</th>\n",
       "      <td>376.42</td>\n",
       "      <td>386.60</td>\n",
       "      <td>372.25</td>\n",
       "      <td>376.72</td>\n",
       "      <td>2.746157e+06</td>\n",
       "    </tr>\n",
       "    <tr>\n",
       "      <th>2014-11-30</th>\n",
       "      <td>376.57</td>\n",
       "      <td>381.99</td>\n",
       "      <td>373.32</td>\n",
       "      <td>373.34</td>\n",
       "      <td>1.145567e+06</td>\n",
       "    </tr>\n",
       "    <tr>\n",
       "      <th>2014-12-01</th>\n",
       "      <td>376.40</td>\n",
       "      <td>382.31</td>\n",
       "      <td>373.03</td>\n",
       "      <td>378.39</td>\n",
       "      <td>2.520662e+06</td>\n",
       "    </tr>\n",
       "    <tr>\n",
       "      <th>2014-12-02</th>\n",
       "      <td>378.39</td>\n",
       "      <td>382.86</td>\n",
       "      <td>375.23</td>\n",
       "      <td>379.25</td>\n",
       "      <td>2.593576e+06</td>\n",
       "    </tr>\n",
       "    <tr>\n",
       "      <th>2014-12-03</th>\n",
       "      <td>379.25</td>\n",
       "      <td>383.00</td>\n",
       "      <td>374.23</td>\n",
       "      <td>376.67</td>\n",
       "      <td>2.998358e+06</td>\n",
       "    </tr>\n",
       "    <tr>\n",
       "      <th>...</th>\n",
       "      <td>...</td>\n",
       "      <td>...</td>\n",
       "      <td>...</td>\n",
       "      <td>...</td>\n",
       "      <td>...</td>\n",
       "    </tr>\n",
       "    <tr>\n",
       "      <th>2022-01-20</th>\n",
       "      <td>41733.21</td>\n",
       "      <td>43518.69</td>\n",
       "      <td>40554.14</td>\n",
       "      <td>40736.05</td>\n",
       "      <td>2.425153e+03</td>\n",
       "    </tr>\n",
       "    <tr>\n",
       "      <th>2022-01-21</th>\n",
       "      <td>40654.72</td>\n",
       "      <td>41115.58</td>\n",
       "      <td>35423.00</td>\n",
       "      <td>36495.46</td>\n",
       "      <td>6.201046e+03</td>\n",
       "    </tr>\n",
       "    <tr>\n",
       "      <th>2022-01-22</th>\n",
       "      <td>36447.37</td>\n",
       "      <td>36825.98</td>\n",
       "      <td>34000.00</td>\n",
       "      <td>35091.11</td>\n",
       "      <td>4.510372e+03</td>\n",
       "    </tr>\n",
       "    <tr>\n",
       "      <th>2022-01-23</th>\n",
       "      <td>35084.79</td>\n",
       "      <td>36574.47</td>\n",
       "      <td>34624.59</td>\n",
       "      <td>36293.62</td>\n",
       "      <td>2.533704e+03</td>\n",
       "    </tr>\n",
       "    <tr>\n",
       "      <th>2022-01-24</th>\n",
       "      <td>36262.21</td>\n",
       "      <td>36276.86</td>\n",
       "      <td>35917.44</td>\n",
       "      <td>35917.44</td>\n",
       "      <td>3.775357e+01</td>\n",
       "    </tr>\n",
       "  </tbody>\n",
       "</table>\n",
       "<p>2614 rows × 5 columns</p>\n",
       "</div>"
      ],
      "text/plain": [
       "                Open      High       Low     Close        Volume\n",
       "ot                                                              \n",
       "2014-11-29    376.42    386.60    372.25    376.72  2.746157e+06\n",
       "2014-11-30    376.57    381.99    373.32    373.34  1.145567e+06\n",
       "2014-12-01    376.40    382.31    373.03    378.39  2.520662e+06\n",
       "2014-12-02    378.39    382.86    375.23    379.25  2.593576e+06\n",
       "2014-12-03    379.25    383.00    374.23    376.67  2.998358e+06\n",
       "...              ...       ...       ...       ...           ...\n",
       "2022-01-20  41733.21  43518.69  40554.14  40736.05  2.425153e+03\n",
       "2022-01-21  40654.72  41115.58  35423.00  36495.46  6.201046e+03\n",
       "2022-01-22  36447.37  36825.98  34000.00  35091.11  4.510372e+03\n",
       "2022-01-23  35084.79  36574.47  34624.59  36293.62  2.533704e+03\n",
       "2022-01-24  36262.21  36276.86  35917.44  35917.44  3.775357e+01\n",
       "\n",
       "[2614 rows x 5 columns]"
      ]
     },
     "execution_count": 37,
     "metadata": {},
     "output_type": "execute_result"
    }
   ],
   "source": [
    "data"
   ]
  },
  {
   "cell_type": "code",
   "execution_count": 36,
   "id": "30971871",
   "metadata": {},
   "outputs": [],
   "source": [
    "data.columns = ['Open','High','Low','Close','Volume']"
   ]
  },
  {
   "cell_type": "code",
   "execution_count": 38,
   "id": "6f112d2e",
   "metadata": {},
   "outputs": [
    {
     "data": {
      "text/plain": [
       "array([[3.18199066e-03, 2.52605283e-03, 3.32614195e-03, 3.18589848e-03,\n",
       "        3.55568085e-03],\n",
       "       [3.18421666e-03, 2.45903451e-03, 3.34233013e-03, 3.13574788e-03,\n",
       "        1.48326158e-03],\n",
       "       [3.18169386e-03, 2.46368654e-03, 3.33794268e-03, 3.21067703e-03,\n",
       "        3.26371389e-03],\n",
       "       ...,\n",
       "       [5.38474529e-01, 5.32267068e-01, 5.12085159e-01, 5.18259121e-01,\n",
       "        5.83995879e-06],\n",
       "       [5.18253856e-01, 5.28610717e-01, 5.21534670e-01, 5.36101310e-01,\n",
       "        3.28059996e-06],\n",
       "       [5.35726757e-01, 5.24284183e-01, 5.41094382e-01, 5.30519756e-01,\n",
       "        4.88827305e-08]])"
      ]
     },
     "execution_count": 38,
     "metadata": {},
     "output_type": "execute_result"
    }
   ],
   "source": [
    "from sklearn.preprocessing import MinMaxScaler\n",
    "\n",
    "scaler = MinMaxScaler()\n",
    "# 스케일을 적용할 column을 정의합니다.\n",
    "scale_cols = ['Open', 'High', 'Low', 'Close', 'Volume']\n",
    "# 스케일 후 columns\n",
    "scaled = scaler.fit_transform(data[scale_cols])\n",
    "scaled"
   ]
  },
  {
   "cell_type": "code",
   "execution_count": 41,
   "id": "2a8fc921",
   "metadata": {},
   "outputs": [],
   "source": [
    "df = pd.DataFrame(scaled, columns=scale_cols)"
   ]
  },
  {
   "cell_type": "code",
   "execution_count": 42,
   "id": "ebe420fb",
   "metadata": {},
   "outputs": [
    {
     "name": "stderr",
     "output_type": "stream",
     "text": [
      "C:\\Users\\happy\\AppData\\Local\\Temp\\ipykernel_8372\\481125636.py:3: FutureWarning: In a future version of pandas all arguments of DataFrame.drop except for the argument 'labels' will be keyword-only.\n",
      "  x_train, x_test, y_train, y_test = train_test_split(df.drop('Close', 1), df['Close'], test_size=0.2, random_state=0, shuffle=False)\n"
     ]
    }
   ],
   "source": [
    "from sklearn.model_selection import train_test_split\n",
    "\n",
    "x_train, x_test, y_train, y_test = train_test_split(df.drop('Close', 1), df['Close'], test_size=0.2, random_state=0, shuffle=False)"
   ]
  },
  {
   "cell_type": "code",
   "execution_count": 43,
   "id": "d45caa99",
   "metadata": {},
   "outputs": [
    {
     "data": {
      "text/plain": [
       "((2091, 4), (2091,))"
      ]
     },
     "execution_count": 43,
     "metadata": {},
     "output_type": "execute_result"
    }
   ],
   "source": [
    "x_train.shape, y_train.shape"
   ]
  },
  {
   "cell_type": "code",
   "execution_count": 44,
   "id": "bf1434c3",
   "metadata": {},
   "outputs": [
    {
     "data": {
      "text/plain": [
       "((523, 4), (523,))"
      ]
     },
     "execution_count": 44,
     "metadata": {},
     "output_type": "execute_result"
    }
   ],
   "source": [
    "x_test.shape, y_test.shape"
   ]
  },
  {
   "cell_type": "code",
   "execution_count": 45,
   "id": "579357c4",
   "metadata": {},
   "outputs": [
    {
     "data": {
      "text/html": [
       "<div>\n",
       "<style scoped>\n",
       "    .dataframe tbody tr th:only-of-type {\n",
       "        vertical-align: middle;\n",
       "    }\n",
       "\n",
       "    .dataframe tbody tr th {\n",
       "        vertical-align: top;\n",
       "    }\n",
       "\n",
       "    .dataframe thead th {\n",
       "        text-align: right;\n",
       "    }\n",
       "</style>\n",
       "<table border=\"1\" class=\"dataframe\">\n",
       "  <thead>\n",
       "    <tr style=\"text-align: right;\">\n",
       "      <th></th>\n",
       "      <th>Open</th>\n",
       "      <th>High</th>\n",
       "      <th>Low</th>\n",
       "      <th>Volume</th>\n",
       "    </tr>\n",
       "  </thead>\n",
       "  <tbody>\n",
       "    <tr>\n",
       "      <th>0</th>\n",
       "      <td>0.003182</td>\n",
       "      <td>0.002526</td>\n",
       "      <td>0.003326</td>\n",
       "      <td>0.003556</td>\n",
       "    </tr>\n",
       "    <tr>\n",
       "      <th>1</th>\n",
       "      <td>0.003184</td>\n",
       "      <td>0.002459</td>\n",
       "      <td>0.003342</td>\n",
       "      <td>0.001483</td>\n",
       "    </tr>\n",
       "    <tr>\n",
       "      <th>2</th>\n",
       "      <td>0.003182</td>\n",
       "      <td>0.002464</td>\n",
       "      <td>0.003338</td>\n",
       "      <td>0.003264</td>\n",
       "    </tr>\n",
       "    <tr>\n",
       "      <th>3</th>\n",
       "      <td>0.003211</td>\n",
       "      <td>0.002472</td>\n",
       "      <td>0.003371</td>\n",
       "      <td>0.003358</td>\n",
       "    </tr>\n",
       "    <tr>\n",
       "      <th>4</th>\n",
       "      <td>0.003224</td>\n",
       "      <td>0.002474</td>\n",
       "      <td>0.003356</td>\n",
       "      <td>0.003882</td>\n",
       "    </tr>\n",
       "    <tr>\n",
       "      <th>...</th>\n",
       "      <td>...</td>\n",
       "      <td>...</td>\n",
       "      <td>...</td>\n",
       "      <td>...</td>\n",
       "    </tr>\n",
       "    <tr>\n",
       "      <th>2086</th>\n",
       "      <td>0.172292</td>\n",
       "      <td>0.171167</td>\n",
       "      <td>0.174217</td>\n",
       "      <td>0.000005</td>\n",
       "    </tr>\n",
       "    <tr>\n",
       "      <th>2087</th>\n",
       "      <td>0.173577</td>\n",
       "      <td>0.170464</td>\n",
       "      <td>0.174493</td>\n",
       "      <td>0.000003</td>\n",
       "    </tr>\n",
       "    <tr>\n",
       "      <th>2088</th>\n",
       "      <td>0.174442</td>\n",
       "      <td>0.178233</td>\n",
       "      <td>0.175786</td>\n",
       "      <td>0.000013</td>\n",
       "    </tr>\n",
       "    <tr>\n",
       "      <th>2089</th>\n",
       "      <td>0.180147</td>\n",
       "      <td>0.177296</td>\n",
       "      <td>0.176566</td>\n",
       "      <td>0.000011</td>\n",
       "    </tr>\n",
       "    <tr>\n",
       "      <th>2090</th>\n",
       "      <td>0.174934</td>\n",
       "      <td>0.171679</td>\n",
       "      <td>0.172805</td>\n",
       "      <td>0.000012</td>\n",
       "    </tr>\n",
       "  </tbody>\n",
       "</table>\n",
       "<p>2091 rows × 4 columns</p>\n",
       "</div>"
      ],
      "text/plain": [
       "          Open      High       Low    Volume\n",
       "0     0.003182  0.002526  0.003326  0.003556\n",
       "1     0.003184  0.002459  0.003342  0.001483\n",
       "2     0.003182  0.002464  0.003338  0.003264\n",
       "3     0.003211  0.002472  0.003371  0.003358\n",
       "4     0.003224  0.002474  0.003356  0.003882\n",
       "...        ...       ...       ...       ...\n",
       "2086  0.172292  0.171167  0.174217  0.000005\n",
       "2087  0.173577  0.170464  0.174493  0.000003\n",
       "2088  0.174442  0.178233  0.175786  0.000013\n",
       "2089  0.180147  0.177296  0.176566  0.000011\n",
       "2090  0.174934  0.171679  0.172805  0.000012\n",
       "\n",
       "[2091 rows x 4 columns]"
      ]
     },
     "execution_count": 45,
     "metadata": {},
     "output_type": "execute_result"
    }
   ],
   "source": [
    "x_train"
   ]
  },
  {
   "cell_type": "code",
   "execution_count": 48,
   "id": "2e74d8ce",
   "metadata": {},
   "outputs": [],
   "source": [
    "import tensorflow as tf"
   ]
  },
  {
   "cell_type": "code",
   "execution_count": 49,
   "id": "feeed707",
   "metadata": {},
   "outputs": [],
   "source": [
    "def windowed_dataset(series, window_size, batch_size, shuffle):\n",
    "    series = tf.expand_dims(series, axis=-1)\n",
    "    ds = tf.data.Dataset.from_tensor_slices(series)\n",
    "    ds = ds.window(window_size + 1, shift=1, drop_remainder=True)\n",
    "    ds = ds.flat_map(lambda w: w.batch(window_size + 1))\n",
    "    if shuffle:\n",
    "        ds = ds.shuffle(1000)\n",
    "    ds = ds.map(lambda w: (w[:-1], w[-1]))\n",
    "    return ds.batch(batch_size).prefetch(1)"
   ]
  },
  {
   "cell_type": "code",
   "execution_count": 50,
   "id": "42421a73",
   "metadata": {},
   "outputs": [],
   "source": [
    "WINDOW_SIZE=50\n",
    "BATCH_SIZE=32"
   ]
  },
  {
   "cell_type": "code",
   "execution_count": 51,
   "id": "bef93f37",
   "metadata": {},
   "outputs": [],
   "source": [
    "# trian_data는 학습용 데이터셋, test_data는 검증용 데이터셋 입니다.\n",
    "train_data = windowed_dataset(y_train, WINDOW_SIZE, BATCH_SIZE, True)\n",
    "test_data = windowed_dataset(y_test, WINDOW_SIZE, BATCH_SIZE, False)"
   ]
  },
  {
   "cell_type": "code",
   "execution_count": 52,
   "id": "34c37ba0",
   "metadata": {},
   "outputs": [
    {
     "name": "stdout",
     "output_type": "stream",
     "text": [
      "데이터셋(X) 구성(batch_size, window_size, feature갯수): (32, 50, 1)\n",
      "데이터셋(Y) 구성(batch_size, window_size, feature갯수): (32, 1)\n"
     ]
    }
   ],
   "source": [
    "# 아래의 코드로 데이터셋의 구성을 확인해 볼 수 있습니다.\n",
    "# X: (batch_size, window_size, feature)\n",
    "# Y: (batch_size, feature)\n",
    "for data in train_data.take(1):\n",
    "    print(f'데이터셋(X) 구성(batch_size, window_size, feature갯수): {data[0].shape}')\n",
    "    print(f'데이터셋(Y) 구성(batch_size, window_size, feature갯수): {data[1].shape}')"
   ]
  },
  {
   "cell_type": "code",
   "execution_count": 53,
   "id": "1bfae8d5",
   "metadata": {},
   "outputs": [],
   "source": [
    "from tensorflow.keras.models import Sequential\n",
    "from tensorflow.keras.layers import Dense, LSTM, Conv1D, Lambda\n",
    "from tensorflow.keras.losses import Huber\n",
    "from tensorflow.keras.optimizers import Adam\n",
    "from tensorflow.keras.callbacks import EarlyStopping, ModelCheckpoint\n",
    "\n",
    "\n",
    "model = Sequential([\n",
    "    # 1차원 feature map 생성\n",
    "    Conv1D(filters=32, kernel_size=5,\n",
    "           padding=\"causal\",\n",
    "           activation=\"relu\",\n",
    "           input_shape=[WINDOW_SIZE, 1]),\n",
    "    # LSTM\n",
    "    LSTM(16, activation='tanh'),\n",
    "    Dense(16, activation=\"relu\"),\n",
    "    Dense(1),\n",
    "])"
   ]
  },
  {
   "cell_type": "code",
   "execution_count": 54,
   "id": "b0337a09",
   "metadata": {},
   "outputs": [],
   "source": [
    "# Sequence 학습에 비교적 좋은 퍼포먼스를 내는 Huber()를 사용합니다.\n",
    "loss = Huber()\n",
    "optimizer = Adam(0.0005)\n",
    "model.compile(loss=Huber(), optimizer=optimizer, metrics=['mse'])"
   ]
  },
  {
   "cell_type": "code",
   "execution_count": 56,
   "id": "9937a74f",
   "metadata": {},
   "outputs": [],
   "source": [
    "import os"
   ]
  },
  {
   "cell_type": "code",
   "execution_count": 57,
   "id": "65ec8925",
   "metadata": {},
   "outputs": [],
   "source": [
    "# earlystopping은 10번 epoch통안 val_loss 개선이 없다면 학습을 멈춥니다.\n",
    "earlystopping = EarlyStopping(monitor='val_loss', patience=10)\n",
    "# val_loss 기준 체크포인터도 생성합니다.\n",
    "filename = os.path.join('tmp', 'ckeckpointer.ckpt')\n",
    "checkpoint = ModelCheckpoint(filename, \n",
    "                             save_weights_only=True, \n",
    "                             save_best_only=True, \n",
    "                             monitor='val_loss', \n",
    "                             verbose=1)"
   ]
  },
  {
   "cell_type": "code",
   "execution_count": 58,
   "id": "513aa658",
   "metadata": {
    "scrolled": true
   },
   "outputs": [
    {
     "name": "stdout",
     "output_type": "stream",
     "text": [
      "Epoch 1/50\n",
      "     62/Unknown - 3s 13ms/step - loss: 3.2051e-04 - mse: 6.4102e-04\n",
      "Epoch 1: val_loss improved from inf to 0.02473, saving model to tmp\\ckeckpointer.ckpt\n",
      "64/64 [==============================] - 4s 39ms/step - loss: 3.1654e-04 - mse: 6.3307e-04 - val_loss: 0.0247 - val_mse: 0.0495\n",
      "Epoch 2/50\n",
      "60/64 [===========================>..] - ETA: 0s - loss: 5.4727e-05 - mse: 1.0945e-04\n",
      "Epoch 2: val_loss improved from 0.02473 to 0.02201, saving model to tmp\\ckeckpointer.ckpt\n",
      "64/64 [==============================] - 1s 15ms/step - loss: 5.4228e-05 - mse: 1.0846e-04 - val_loss: 0.0220 - val_mse: 0.0440\n",
      "Epoch 3/50\n",
      "63/64 [============================>.] - ETA: 0s - loss: 4.8796e-05 - mse: 9.7593e-05\n",
      "Epoch 3: val_loss improved from 0.02201 to 0.01876, saving model to tmp\\ckeckpointer.ckpt\n",
      "64/64 [==============================] - 1s 15ms/step - loss: 4.8431e-05 - mse: 9.6861e-05 - val_loss: 0.0188 - val_mse: 0.0375\n",
      "Epoch 4/50\n",
      "64/64 [==============================] - ETA: 0s - loss: 4.2768e-05 - mse: 8.5535e-05\n",
      "Epoch 4: val_loss did not improve from 0.01876\n",
      "64/64 [==============================] - 1s 15ms/step - loss: 4.2768e-05 - mse: 8.5535e-05 - val_loss: 0.0194 - val_mse: 0.0389\n",
      "Epoch 5/50\n",
      "64/64 [==============================] - ETA: 0s - loss: 3.8755e-05 - mse: 7.7511e-05\n",
      "Epoch 5: val_loss improved from 0.01876 to 0.01747, saving model to tmp\\ckeckpointer.ckpt\n",
      "64/64 [==============================] - 1s 18ms/step - loss: 3.8755e-05 - mse: 7.7511e-05 - val_loss: 0.0175 - val_mse: 0.0349\n",
      "Epoch 6/50\n",
      "62/64 [============================>.] - ETA: 0s - loss: 3.7033e-05 - mse: 7.4065e-05\n",
      "Epoch 6: val_loss did not improve from 0.01747\n",
      "64/64 [==============================] - 1s 18ms/step - loss: 3.6754e-05 - mse: 7.3508e-05 - val_loss: 0.0188 - val_mse: 0.0376\n",
      "Epoch 7/50\n",
      "61/64 [===========================>..] - ETA: 0s - loss: 3.8740e-05 - mse: 7.7480e-05\n",
      "Epoch 7: val_loss did not improve from 0.01747\n",
      "64/64 [==============================] - 1s 16ms/step - loss: 3.8206e-05 - mse: 7.6413e-05 - val_loss: 0.0200 - val_mse: 0.0399\n",
      "Epoch 8/50\n",
      "61/64 [===========================>..] - ETA: 0s - loss: 3.6209e-05 - mse: 7.2417e-05\n",
      "Epoch 8: val_loss did not improve from 0.01747\n",
      "64/64 [==============================] - 1s 16ms/step - loss: 3.5283e-05 - mse: 7.0566e-05 - val_loss: 0.0191 - val_mse: 0.0382\n",
      "Epoch 9/50\n",
      "61/64 [===========================>..] - ETA: 0s - loss: 3.3642e-05 - mse: 6.7284e-05\n",
      "Epoch 9: val_loss improved from 0.01747 to 0.01731, saving model to tmp\\ckeckpointer.ckpt\n",
      "64/64 [==============================] - 1s 16ms/step - loss: 3.3754e-05 - mse: 6.7508e-05 - val_loss: 0.0173 - val_mse: 0.0346\n",
      "Epoch 10/50\n",
      "61/64 [===========================>..] - ETA: 0s - loss: 3.3150e-05 - mse: 6.6300e-05\n",
      "Epoch 10: val_loss improved from 0.01731 to 0.01668, saving model to tmp\\ckeckpointer.ckpt\n",
      "64/64 [==============================] - 1s 16ms/step - loss: 3.2771e-05 - mse: 6.5542e-05 - val_loss: 0.0167 - val_mse: 0.0334\n",
      "Epoch 11/50\n",
      "62/64 [============================>.] - ETA: 0s - loss: 2.9682e-05 - mse: 5.9365e-05\n",
      "Epoch 11: val_loss did not improve from 0.01668\n",
      "64/64 [==============================] - 1s 16ms/step - loss: 2.9875e-05 - mse: 5.9751e-05 - val_loss: 0.0171 - val_mse: 0.0342\n",
      "Epoch 12/50\n",
      "64/64 [==============================] - ETA: 0s - loss: 2.8427e-05 - mse: 5.6854e-05\n",
      "Epoch 12: val_loss did not improve from 0.01668\n",
      "64/64 [==============================] - 1s 15ms/step - loss: 2.8427e-05 - mse: 5.6854e-05 - val_loss: 0.0168 - val_mse: 0.0336\n",
      "Epoch 13/50\n",
      "64/64 [==============================] - ETA: 0s - loss: 2.8141e-05 - mse: 5.6282e-05\n",
      "Epoch 13: val_loss improved from 0.01668 to 0.01532, saving model to tmp\\ckeckpointer.ckpt\n",
      "64/64 [==============================] - 1s 18ms/step - loss: 2.8141e-05 - mse: 5.6282e-05 - val_loss: 0.0153 - val_mse: 0.0306\n",
      "Epoch 14/50\n",
      "61/64 [===========================>..] - ETA: 0s - loss: 2.5047e-05 - mse: 5.0095e-05\n",
      "Epoch 14: val_loss did not improve from 0.01532\n",
      "64/64 [==============================] - 1s 16ms/step - loss: 2.6407e-05 - mse: 5.2813e-05 - val_loss: 0.0158 - val_mse: 0.0316\n",
      "Epoch 15/50\n",
      "61/64 [===========================>..] - ETA: 0s - loss: 2.5055e-05 - mse: 5.0111e-05\n",
      "Epoch 15: val_loss did not improve from 0.01532\n",
      "64/64 [==============================] - 1s 15ms/step - loss: 2.4953e-05 - mse: 4.9905e-05 - val_loss: 0.0171 - val_mse: 0.0343\n",
      "Epoch 16/50\n",
      "62/64 [============================>.] - ETA: 0s - loss: 2.4822e-05 - mse: 4.9645e-05\n",
      "Epoch 16: val_loss improved from 0.01532 to 0.01495, saving model to tmp\\ckeckpointer.ckpt\n",
      "64/64 [==============================] - 1s 16ms/step - loss: 2.4439e-05 - mse: 4.8877e-05 - val_loss: 0.0150 - val_mse: 0.0299\n",
      "Epoch 17/50\n",
      "62/64 [============================>.] - ETA: 0s - loss: 2.4226e-05 - mse: 4.8452e-05\n",
      "Epoch 17: val_loss improved from 0.01495 to 0.01294, saving model to tmp\\ckeckpointer.ckpt\n",
      "64/64 [==============================] - 1s 16ms/step - loss: 2.3956e-05 - mse: 4.7912e-05 - val_loss: 0.0129 - val_mse: 0.0259\n",
      "Epoch 18/50\n",
      "62/64 [============================>.] - ETA: 0s - loss: 2.3314e-05 - mse: 4.6627e-05\n",
      "Epoch 18: val_loss did not improve from 0.01294\n",
      "64/64 [==============================] - 1s 15ms/step - loss: 2.3185e-05 - mse: 4.6369e-05 - val_loss: 0.0149 - val_mse: 0.0297\n",
      "Epoch 19/50\n",
      "62/64 [============================>.] - ETA: 0s - loss: 2.5056e-05 - mse: 5.0113e-05\n",
      "Epoch 19: val_loss improved from 0.01294 to 0.01282, saving model to tmp\\ckeckpointer.ckpt\n",
      "64/64 [==============================] - 1s 16ms/step - loss: 2.4661e-05 - mse: 4.9322e-05 - val_loss: 0.0128 - val_mse: 0.0256\n",
      "Epoch 20/50\n",
      "64/64 [==============================] - ETA: 0s - loss: 2.2326e-05 - mse: 4.4651e-05\n",
      "Epoch 20: val_loss did not improve from 0.01282\n",
      "64/64 [==============================] - 1s 17ms/step - loss: 2.2326e-05 - mse: 4.4651e-05 - val_loss: 0.0143 - val_mse: 0.0286\n",
      "Epoch 21/50\n",
      "61/64 [===========================>..] - ETA: 0s - loss: 2.2018e-05 - mse: 4.4036e-05\n",
      "Epoch 21: val_loss did not improve from 0.01282\n",
      "64/64 [==============================] - 1s 15ms/step - loss: 2.2399e-05 - mse: 4.4798e-05 - val_loss: 0.0136 - val_mse: 0.0272\n",
      "Epoch 22/50\n",
      "63/64 [============================>.] - ETA: 0s - loss: 2.3807e-05 - mse: 4.7614e-05\n",
      "Epoch 22: val_loss did not improve from 0.01282\n",
      "64/64 [==============================] - 1s 15ms/step - loss: 2.4089e-05 - mse: 4.8178e-05 - val_loss: 0.0131 - val_mse: 0.0261\n",
      "Epoch 23/50\n",
      "62/64 [============================>.] - ETA: 0s - loss: 2.0476e-05 - mse: 4.0951e-05\n",
      "Epoch 23: val_loss did not improve from 0.01282\n",
      "64/64 [==============================] - 1s 15ms/step - loss: 2.0620e-05 - mse: 4.1240e-05 - val_loss: 0.0137 - val_mse: 0.0273\n",
      "Epoch 24/50\n",
      "64/64 [==============================] - ETA: 0s - loss: 2.0757e-05 - mse: 4.1514e-05\n",
      "Epoch 24: val_loss improved from 0.01282 to 0.01238, saving model to tmp\\ckeckpointer.ckpt\n",
      "64/64 [==============================] - 1s 16ms/step - loss: 2.0757e-05 - mse: 4.1514e-05 - val_loss: 0.0124 - val_mse: 0.0248\n",
      "Epoch 25/50\n",
      "62/64 [============================>.] - ETA: 0s - loss: 1.9624e-05 - mse: 3.9248e-05\n",
      "Epoch 25: val_loss did not improve from 0.01238\n",
      "64/64 [==============================] - 1s 16ms/step - loss: 2.0133e-05 - mse: 4.0266e-05 - val_loss: 0.0124 - val_mse: 0.0248\n",
      "Epoch 26/50\n",
      "61/64 [===========================>..] - ETA: 0s - loss: 1.8943e-05 - mse: 3.7887e-05\n",
      "Epoch 26: val_loss improved from 0.01238 to 0.01184, saving model to tmp\\ckeckpointer.ckpt\n",
      "64/64 [==============================] - 1s 16ms/step - loss: 1.9301e-05 - mse: 3.8602e-05 - val_loss: 0.0118 - val_mse: 0.0237\n",
      "Epoch 27/50\n",
      "61/64 [===========================>..] - ETA: 0s - loss: 1.8306e-05 - mse: 3.6612e-05\n",
      "Epoch 27: val_loss improved from 0.01184 to 0.01148, saving model to tmp\\ckeckpointer.ckpt\n",
      "64/64 [==============================] - 1s 16ms/step - loss: 1.8382e-05 - mse: 3.6765e-05 - val_loss: 0.0115 - val_mse: 0.0230\n",
      "Epoch 28/50\n",
      "61/64 [===========================>..] - ETA: 0s - loss: 1.8231e-05 - mse: 3.6462e-05\n",
      "Epoch 28: val_loss improved from 0.01148 to 0.01039, saving model to tmp\\ckeckpointer.ckpt\n",
      "64/64 [==============================] - 1s 17ms/step - loss: 1.8508e-05 - mse: 3.7015e-05 - val_loss: 0.0104 - val_mse: 0.0208\n"
     ]
    },
    {
     "name": "stdout",
     "output_type": "stream",
     "text": [
      "Epoch 29/50\n",
      "63/64 [============================>.] - ETA: 0s - loss: 1.9569e-05 - mse: 3.9138e-05\n",
      "Epoch 29: val_loss improved from 0.01039 to 0.01016, saving model to tmp\\ckeckpointer.ckpt\n",
      "64/64 [==============================] - 1s 16ms/step - loss: 1.9393e-05 - mse: 3.8786e-05 - val_loss: 0.0102 - val_mse: 0.0203\n",
      "Epoch 30/50\n",
      "64/64 [==============================] - ETA: 0s - loss: 1.8389e-05 - mse: 3.6777e-05\n",
      "Epoch 30: val_loss did not improve from 0.01016\n",
      "64/64 [==============================] - 1s 15ms/step - loss: 1.8389e-05 - mse: 3.6777e-05 - val_loss: 0.0103 - val_mse: 0.0207\n",
      "Epoch 31/50\n",
      "63/64 [============================>.] - ETA: 0s - loss: 1.8330e-05 - mse: 3.6659e-05\n",
      "Epoch 31: val_loss did not improve from 0.01016\n",
      "64/64 [==============================] - 1s 15ms/step - loss: 1.8253e-05 - mse: 3.6506e-05 - val_loss: 0.0123 - val_mse: 0.0247\n",
      "Epoch 32/50\n",
      "62/64 [============================>.] - ETA: 0s - loss: 1.7187e-05 - mse: 3.4374e-05\n",
      "Epoch 32: val_loss did not improve from 0.01016\n",
      "64/64 [==============================] - 1s 17ms/step - loss: 1.7346e-05 - mse: 3.4692e-05 - val_loss: 0.0109 - val_mse: 0.0219\n",
      "Epoch 33/50\n",
      "61/64 [===========================>..] - ETA: 0s - loss: 1.7160e-05 - mse: 3.4320e-05\n",
      "Epoch 33: val_loss did not improve from 0.01016\n",
      "64/64 [==============================] - 1s 15ms/step - loss: 1.7078e-05 - mse: 3.4156e-05 - val_loss: 0.0112 - val_mse: 0.0223\n",
      "Epoch 34/50\n",
      "64/64 [==============================] - ETA: 0s - loss: 1.7176e-05 - mse: 3.4352e-05\n",
      "Epoch 34: val_loss did not improve from 0.01016\n",
      "64/64 [==============================] - 1s 15ms/step - loss: 1.7176e-05 - mse: 3.4352e-05 - val_loss: 0.0111 - val_mse: 0.0223\n",
      "Epoch 35/50\n",
      "61/64 [===========================>..] - ETA: 0s - loss: 1.6672e-05 - mse: 3.3344e-05\n",
      "Epoch 35: val_loss did not improve from 0.01016\n",
      "64/64 [==============================] - 1s 15ms/step - loss: 1.6584e-05 - mse: 3.3167e-05 - val_loss: 0.0119 - val_mse: 0.0239\n",
      "Epoch 36/50\n",
      "64/64 [==============================] - ETA: 0s - loss: 1.6543e-05 - mse: 3.3086e-05\n",
      "Epoch 36: val_loss did not improve from 0.01016\n",
      "64/64 [==============================] - 1s 15ms/step - loss: 1.6543e-05 - mse: 3.3086e-05 - val_loss: 0.0105 - val_mse: 0.0210\n",
      "Epoch 37/50\n",
      "63/64 [============================>.] - ETA: 0s - loss: 1.5616e-05 - mse: 3.1231e-05\n",
      "Epoch 37: val_loss did not improve from 0.01016\n",
      "64/64 [==============================] - 1s 15ms/step - loss: 1.5763e-05 - mse: 3.1527e-05 - val_loss: 0.0110 - val_mse: 0.0221\n",
      "Epoch 38/50\n",
      "61/64 [===========================>..] - ETA: 0s - loss: 1.5332e-05 - mse: 3.0664e-05\n",
      "Epoch 38: val_loss improved from 0.01016 to 0.00953, saving model to tmp\\ckeckpointer.ckpt\n",
      "64/64 [==============================] - 1s 16ms/step - loss: 1.5528e-05 - mse: 3.1056e-05 - val_loss: 0.0095 - val_mse: 0.0191\n",
      "Epoch 39/50\n",
      "63/64 [============================>.] - ETA: 0s - loss: 1.9057e-05 - mse: 3.8114e-05\n",
      "Epoch 39: val_loss improved from 0.00953 to 0.00934, saving model to tmp\\ckeckpointer.ckpt\n",
      "64/64 [==============================] - 1s 16ms/step - loss: 1.9187e-05 - mse: 3.8373e-05 - val_loss: 0.0093 - val_mse: 0.0187\n",
      "Epoch 40/50\n",
      "61/64 [===========================>..] - ETA: 0s - loss: 1.6352e-05 - mse: 3.2704e-05\n",
      "Epoch 40: val_loss did not improve from 0.00934\n",
      "64/64 [==============================] - 1s 15ms/step - loss: 1.6302e-05 - mse: 3.2604e-05 - val_loss: 0.0119 - val_mse: 0.0238\n",
      "Epoch 41/50\n",
      "62/64 [============================>.] - ETA: 0s - loss: 1.6054e-05 - mse: 3.2107e-05\n",
      "Epoch 41: val_loss did not improve from 0.00934\n",
      "64/64 [==============================] - 1s 15ms/step - loss: 1.6015e-05 - mse: 3.2031e-05 - val_loss: 0.0113 - val_mse: 0.0225\n",
      "Epoch 42/50\n",
      "61/64 [===========================>..] - ETA: 0s - loss: 1.5905e-05 - mse: 3.1811e-05\n",
      "Epoch 42: val_loss did not improve from 0.00934\n",
      "64/64 [==============================] - 1s 16ms/step - loss: 1.5764e-05 - mse: 3.1528e-05 - val_loss: 0.0125 - val_mse: 0.0250\n",
      "Epoch 43/50\n",
      "61/64 [===========================>..] - ETA: 0s - loss: 1.5262e-05 - mse: 3.0524e-05\n",
      "Epoch 43: val_loss did not improve from 0.00934\n",
      "64/64 [==============================] - 1s 15ms/step - loss: 1.6349e-05 - mse: 3.2699e-05 - val_loss: 0.0119 - val_mse: 0.0237\n",
      "Epoch 44/50\n",
      "62/64 [============================>.] - ETA: 0s - loss: 1.4708e-05 - mse: 2.9417e-05\n",
      "Epoch 44: val_loss did not improve from 0.00934\n",
      "64/64 [==============================] - 1s 15ms/step - loss: 1.4640e-05 - mse: 2.9279e-05 - val_loss: 0.0115 - val_mse: 0.0230\n",
      "Epoch 45/50\n",
      "62/64 [============================>.] - ETA: 0s - loss: 1.4495e-05 - mse: 2.8990e-05\n",
      "Epoch 45: val_loss did not improve from 0.00934\n",
      "64/64 [==============================] - 1s 16ms/step - loss: 1.4301e-05 - mse: 2.8601e-05 - val_loss: 0.0111 - val_mse: 0.0221\n",
      "Epoch 46/50\n",
      "63/64 [============================>.] - ETA: 0s - loss: 1.4038e-05 - mse: 2.8076e-05\n",
      "Epoch 46: val_loss did not improve from 0.00934\n",
      "64/64 [==============================] - 1s 15ms/step - loss: 1.3949e-05 - mse: 2.7899e-05 - val_loss: 0.0114 - val_mse: 0.0229\n",
      "Epoch 47/50\n",
      "64/64 [==============================] - ETA: 0s - loss: 1.4166e-05 - mse: 2.8332e-05\n",
      "Epoch 47: val_loss did not improve from 0.00934\n",
      "64/64 [==============================] - 1s 15ms/step - loss: 1.4166e-05 - mse: 2.8332e-05 - val_loss: 0.0112 - val_mse: 0.0224\n",
      "Epoch 48/50\n",
      "64/64 [==============================] - ETA: 0s - loss: 1.4159e-05 - mse: 2.8318e-05\n",
      "Epoch 48: val_loss did not improve from 0.00934\n",
      "64/64 [==============================] - 1s 15ms/step - loss: 1.4159e-05 - mse: 2.8318e-05 - val_loss: 0.0120 - val_mse: 0.0239\n",
      "Epoch 49/50\n",
      "61/64 [===========================>..] - ETA: 0s - loss: 1.4025e-05 - mse: 2.8050e-05\n",
      "Epoch 49: val_loss did not improve from 0.00934\n",
      "64/64 [==============================] - 1s 15ms/step - loss: 1.3911e-05 - mse: 2.7822e-05 - val_loss: 0.0106 - val_mse: 0.0211\n"
     ]
    }
   ],
   "source": [
    "history = model.fit(train_data, \n",
    "                    validation_data=(test_data), \n",
    "                    epochs=50, \n",
    "                    callbacks=[checkpoint, earlystopping])"
   ]
  },
  {
   "cell_type": "code",
   "execution_count": 59,
   "id": "9b56ad03",
   "metadata": {},
   "outputs": [
    {
     "data": {
      "text/plain": [
       "<tensorflow.python.training.tracking.util.CheckpointLoadStatus at 0x17aa3071040>"
      ]
     },
     "execution_count": 59,
     "metadata": {},
     "output_type": "execute_result"
    }
   ],
   "source": [
    "model.load_weights(filename)"
   ]
  },
  {
   "cell_type": "code",
   "execution_count": 60,
   "id": "b59bde7c",
   "metadata": {},
   "outputs": [],
   "source": [
    "pred = model.predict(test_data)"
   ]
  },
  {
   "cell_type": "code",
   "execution_count": 61,
   "id": "254f36bf",
   "metadata": {},
   "outputs": [
    {
     "data": {
      "text/plain": [
       "(473, 1)"
      ]
     },
     "execution_count": 61,
     "metadata": {},
     "output_type": "execute_result"
    }
   ],
   "source": [
    "pred.shape"
   ]
  },
  {
   "cell_type": "code",
   "execution_count": 66,
   "id": "ecded995",
   "metadata": {},
   "outputs": [],
   "source": [
    "import matplotlib.pyplot as plt\n",
    "import numpy as np"
   ]
  },
  {
   "cell_type": "code",
   "execution_count": 67,
   "id": "5ff84ea1",
   "metadata": {},
   "outputs": [
    {
     "data": {
      "image/png": "[encoded data removed]",
      "text/plain": [
       "<Figure size 864x648 with 1 Axes>"
      ]
     },
     "metadata": {
      "needs_background": "light"
     },
     "output_type": "display_data"
    }
   ],
   "source": [
    "plt.figure(figsize=(12, 9))\n",
    "plt.plot(np.asarray(y_test)[20:], label='actual')\n",
    "plt.plot(pred, label='prediction')\n",
    "plt.legend()\n",
    "plt.show()"
   ]
  },
  {
   "cell_type": "code",
   "execution_count": 68,
   "id": "58e7f104",
   "metadata": {},
   "outputs": [
    {
     "name": "stdout",
     "output_type": "stream",
     "text": [
      "Model: \"sequential\"\n",
      "_________________________________________________________________\n",
      " Layer (type)                Output Shape              Param #   \n",
      "=================================================================\n",
      " conv1d (Conv1D)             (None, 50, 32)            192       \n",
      "                                                                 \n",
      " lstm (LSTM)                 (None, 16)                3136      \n",
      "                                                                 \n",
      " dense (Dense)               (None, 16)                272       \n",
      "                                                                 \n",
      " dense_1 (Dense)             (None, 1)                 17        \n",
      "                                                                 \n",
      "=================================================================\n",
      "Total params: 3,617\n",
      "Trainable params: 3,617\n",
      "Non-trainable params: 0\n",
      "_________________________________________________________________\n"
     ]
    }
   ],
   "source": [
    "model.summary()"
   ]
  }
 ],
 "metadata": {
  "kernelspec": {
   "display_name": "LSTM_Yoon",
   "language": "python",
   "name": "lstm_yoon"
  },
  "language_info": {
   "codemirror_mode": {
    "name": "ipython",
    "version": 3
   },
   "file_extension": ".py",
   "mimetype": "text/x-python",
   "name": "python",
   "nbconvert_exporter": "python",
   "pygments_lexer": "ipython3",
   "version": "3.8.13"
  }
 },
 "nbformat": 4,
 "nbformat_minor": 5
}
