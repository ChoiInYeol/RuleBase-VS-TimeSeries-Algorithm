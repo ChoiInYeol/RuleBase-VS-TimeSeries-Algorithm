{
 "cells": [
  {
   "cell_type": "code",
   "execution_count": 1,
   "id": "9e1a56d4",
   "metadata": {},
   "outputs": [],
   "source": [
    "import pandas as pd\n",
    "import pickle\n",
    "import matplotlib.pyplot as plt\n",
    "import numpy as np\n",
    "import os\n",
    "from sklearn.preprocessing import MinMaxScaler\n",
    "from sklearn.model_selection import train_test_split\n",
    "\n",
    "\n",
    "import tensorflow as tf\n",
    "from tensorflow.keras.models import Sequential\n",
    "from tensorflow.keras.layers import Dense, LSTM, Conv1D, Lambda, Dropout\n",
    "from tensorflow.keras.losses import Huber\n",
    "from tensorflow.keras.optimizers import Adam\n",
    "from tensorflow.keras.callbacks import EarlyStopping, ModelCheckpoint\n",
    "\n",
    "import matplotlib as mpl\n",
    "import time\n",
    "from statsmodels.tsa.stattools import adfuller\n",
    "from tqdm import tqdm\n",
    "from PIL import Image\n",
    "from statsmodels.tools.sm_exceptions import ConvergenceWarning\n",
    "from datetime import datetime\n",
    "import warnings\n",
    "warnings.filterwarnings('ignore')\n",
    "\n",
    "try:\n",
    "    import cust_f\n",
    "except:\n",
    "    pass\n",
    "# to perform multiprocessing using a customized function (not necessary for Linux)\n",
    "\n",
    "tot_run_time_start = time.time()"
   ]
  },
  {
   "cell_type": "markdown",
   "id": "f49b5118-438e-40f9-974b-82bbb4123024",
   "metadata": {
    "tags": []
   },
   "source": [
    "# 데이터 가져오기"
   ]
  },
  {
   "cell_type": "code",
   "execution_count": 7,
   "id": "b23150f8",
   "metadata": {},
   "outputs": [
    {
     "name": "stdout",
     "output_type": "stream",
     "text": [
      "                Open      High       Low     Close        Volume   Datetime\n",
      "Datetime                                                                   \n",
      "2017-01-01    966.34   1005.00    960.53    998.80  6.579904e+06 2017-01-01\n",
      "2017-01-02    997.75   1032.00    990.01   1014.10  8.190255e+06 2017-01-02\n",
      "2017-01-03   1011.44   1039.00    999.99   1036.99  8.955193e+06 2017-01-03\n",
      "2017-01-04   1035.51   1139.89   1028.56   1122.56  2.325716e+07 2017-01-04\n",
      "2017-01-05   1114.38   1136.72    885.41    994.02  3.503690e+07 2017-01-05\n",
      "...              ...       ...       ...       ...           ...        ...\n",
      "2022-05-12  29077.90  30257.00  26631.00  29020.70  9.644756e+05 2022-05-12\n",
      "2022-05-13  29020.80  31072.60  28730.40  29274.30  5.076201e+05 2022-05-13\n",
      "2022-05-14  29274.20  30352.20  28602.30  30079.80  3.157569e+05 2022-05-14\n",
      "2022-05-15  30079.50  31462.00  29448.00  31324.40  3.367731e+05 2022-05-15\n",
      "2022-05-16  31324.30  31327.40  29280.00  29851.50  1.971161e+05 2022-05-16\n",
      "\n",
      "[1962 rows x 6 columns]\n"
     ]
    }
   ],
   "source": [
    "with open(\"../btc_usd_1d.pkl\",\"rb\") as fr:\n",
    "    data = pickle.load(fr)\n",
    "print(data)"
   ]
  },
  {
   "cell_type": "code",
   "execution_count": 8,
   "id": "b305a492",
   "metadata": {},
   "outputs": [
    {
     "data": {
      "text/html": [
       "<div>\n",
       "<style scoped>\n",
       "    .dataframe tbody tr th:only-of-type {\n",
       "        vertical-align: middle;\n",
       "    }\n",
       "\n",
       "    .dataframe tbody tr th {\n",
       "        vertical-align: top;\n",
       "    }\n",
       "\n",
       "    .dataframe thead th {\n",
       "        text-align: right;\n",
       "    }\n",
       "</style>\n",
       "<table border=\"1\" class=\"dataframe\">\n",
       "  <thead>\n",
       "    <tr style=\"text-align: right;\">\n",
       "      <th></th>\n",
       "      <th>Open</th>\n",
       "      <th>High</th>\n",
       "      <th>Low</th>\n",
       "      <th>Close</th>\n",
       "      <th>Volume</th>\n",
       "      <th>Datetime</th>\n",
       "    </tr>\n",
       "    <tr>\n",
       "      <th>Datetime</th>\n",
       "      <th></th>\n",
       "      <th></th>\n",
       "      <th></th>\n",
       "      <th></th>\n",
       "      <th></th>\n",
       "      <th></th>\n",
       "    </tr>\n",
       "  </thead>\n",
       "  <tbody>\n",
       "    <tr>\n",
       "      <th>2017-01-01</th>\n",
       "      <td>966.34</td>\n",
       "      <td>1005.00</td>\n",
       "      <td>960.53</td>\n",
       "      <td>998.80</td>\n",
       "      <td>6.579904e+06</td>\n",
       "      <td>2017-01-01</td>\n",
       "    </tr>\n",
       "    <tr>\n",
       "      <th>2017-01-02</th>\n",
       "      <td>997.75</td>\n",
       "      <td>1032.00</td>\n",
       "      <td>990.01</td>\n",
       "      <td>1014.10</td>\n",
       "      <td>8.190255e+06</td>\n",
       "      <td>2017-01-02</td>\n",
       "    </tr>\n",
       "    <tr>\n",
       "      <th>2017-01-03</th>\n",
       "      <td>1011.44</td>\n",
       "      <td>1039.00</td>\n",
       "      <td>999.99</td>\n",
       "      <td>1036.99</td>\n",
       "      <td>8.955193e+06</td>\n",
       "      <td>2017-01-03</td>\n",
       "    </tr>\n",
       "    <tr>\n",
       "      <th>2017-01-04</th>\n",
       "      <td>1035.51</td>\n",
       "      <td>1139.89</td>\n",
       "      <td>1028.56</td>\n",
       "      <td>1122.56</td>\n",
       "      <td>2.325716e+07</td>\n",
       "      <td>2017-01-04</td>\n",
       "    </tr>\n",
       "    <tr>\n",
       "      <th>2017-01-05</th>\n",
       "      <td>1114.38</td>\n",
       "      <td>1136.72</td>\n",
       "      <td>885.41</td>\n",
       "      <td>994.02</td>\n",
       "      <td>3.503690e+07</td>\n",
       "      <td>2017-01-05</td>\n",
       "    </tr>\n",
       "    <tr>\n",
       "      <th>...</th>\n",
       "      <td>...</td>\n",
       "      <td>...</td>\n",
       "      <td>...</td>\n",
       "      <td>...</td>\n",
       "      <td>...</td>\n",
       "      <td>...</td>\n",
       "    </tr>\n",
       "    <tr>\n",
       "      <th>2022-05-12</th>\n",
       "      <td>29077.90</td>\n",
       "      <td>30257.00</td>\n",
       "      <td>26631.00</td>\n",
       "      <td>29020.70</td>\n",
       "      <td>9.644756e+05</td>\n",
       "      <td>2022-05-12</td>\n",
       "    </tr>\n",
       "    <tr>\n",
       "      <th>2022-05-13</th>\n",
       "      <td>29020.80</td>\n",
       "      <td>31072.60</td>\n",
       "      <td>28730.40</td>\n",
       "      <td>29274.30</td>\n",
       "      <td>5.076201e+05</td>\n",
       "      <td>2022-05-13</td>\n",
       "    </tr>\n",
       "    <tr>\n",
       "      <th>2022-05-14</th>\n",
       "      <td>29274.20</td>\n",
       "      <td>30352.20</td>\n",
       "      <td>28602.30</td>\n",
       "      <td>30079.80</td>\n",
       "      <td>3.157569e+05</td>\n",
       "      <td>2022-05-14</td>\n",
       "    </tr>\n",
       "    <tr>\n",
       "      <th>2022-05-15</th>\n",
       "      <td>30079.50</td>\n",
       "      <td>31462.00</td>\n",
       "      <td>29448.00</td>\n",
       "      <td>31324.40</td>\n",
       "      <td>3.367731e+05</td>\n",
       "      <td>2022-05-15</td>\n",
       "    </tr>\n",
       "    <tr>\n",
       "      <th>2022-05-16</th>\n",
       "      <td>31324.30</td>\n",
       "      <td>31327.40</td>\n",
       "      <td>29280.00</td>\n",
       "      <td>29851.50</td>\n",
       "      <td>1.971161e+05</td>\n",
       "      <td>2022-05-16</td>\n",
       "    </tr>\n",
       "  </tbody>\n",
       "</table>\n",
       "<p>1962 rows × 6 columns</p>\n",
       "</div>"
      ],
      "text/plain": [
       "                Open      High       Low     Close        Volume   Datetime\n",
       "Datetime                                                                   \n",
       "2017-01-01    966.34   1005.00    960.53    998.80  6.579904e+06 2017-01-01\n",
       "2017-01-02    997.75   1032.00    990.01   1014.10  8.190255e+06 2017-01-02\n",
       "2017-01-03   1011.44   1039.00    999.99   1036.99  8.955193e+06 2017-01-03\n",
       "2017-01-04   1035.51   1139.89   1028.56   1122.56  2.325716e+07 2017-01-04\n",
       "2017-01-05   1114.38   1136.72    885.41    994.02  3.503690e+07 2017-01-05\n",
       "...              ...       ...       ...       ...           ...        ...\n",
       "2022-05-12  29077.90  30257.00  26631.00  29020.70  9.644756e+05 2022-05-12\n",
       "2022-05-13  29020.80  31072.60  28730.40  29274.30  5.076201e+05 2022-05-13\n",
       "2022-05-14  29274.20  30352.20  28602.30  30079.80  3.157569e+05 2022-05-14\n",
       "2022-05-15  30079.50  31462.00  29448.00  31324.40  3.367731e+05 2022-05-15\n",
       "2022-05-16  31324.30  31327.40  29280.00  29851.50  1.971161e+05 2022-05-16\n",
       "\n",
       "[1962 rows x 6 columns]"
      ]
     },
     "execution_count": 8,
     "metadata": {},
     "output_type": "execute_result"
    }
   ],
   "source": [
    "data"
   ]
  },
  {
   "cell_type": "markdown",
   "id": "5a24d8aa-8698-489c-9a89-60d583431a5a",
   "metadata": {
    "jp-MarkdownHeadingCollapsed": true,
    "tags": []
   },
   "source": [
    "# 1. 간단한 모형 테스트"
   ]
  },
  {
   "cell_type": "markdown",
   "id": "7cd101b9-9f73-43da-b4ab-dcef82632e26",
   "metadata": {
    "tags": []
   },
   "source": [
    "## 윈도우 크기 및 배치 사이즈"
   ]
  },
  {
   "cell_type": "code",
   "execution_count": null,
   "id": "125c65ca",
   "metadata": {},
   "outputs": [],
   "source": [
    "def windowed_dataset(series, window_size, batch_size, shuffle):\n",
    "    series = tf.expand_dims(series, axis=-1)\n",
    "    ds = tf.data.Dataset.from_tensor_slices(series)\n",
    "    ds = ds.window(window_size + 1, shift=1, drop_remainder=True)\n",
    "    ds = ds.flat_map(lambda w: w.batch(window_size + 1))\n",
    "    if shuffle:\n",
    "        ds = ds.shuffle(1000)\n",
    "    ds = ds.map(lambda w: (w[:-1], w[-1]))\n",
    "    return ds.batch(batch_size).prefetch(1)"
   ]
  },
  {
   "cell_type": "code",
   "execution_count": null,
   "id": "b5b8f087",
   "metadata": {},
   "outputs": [],
   "source": [
    "WINDOW_SIZE=50\n",
    "BATCH_SIZE=32"
   ]
  },
  {
   "cell_type": "markdown",
   "id": "1e057044-0b3d-46ab-afbb-5dc725419ce2",
   "metadata": {
    "tags": []
   },
   "source": [
    "## 데이터 전처리"
   ]
  },
  {
   "cell_type": "code",
   "execution_count": null,
   "id": "70433a64",
   "metadata": {},
   "outputs": [],
   "source": [
    "data.columns = ['Open','High','Low','Close','Volume']"
   ]
  },
  {
   "cell_type": "code",
   "execution_count": null,
   "id": "e0a0cfa1",
   "metadata": {},
   "outputs": [],
   "source": [
    "# MinMax 스케일링\n",
    "\n",
    "\n",
    "scaler = MinMaxScaler()\n",
    "# 스케일을 적용할 column을 정의합니다.\n",
    "scale_cols = ['Open', 'High', 'Low', 'Close', 'Volume']\n",
    "# 스케일 후 columns\n",
    "scaled = scaler.fit_transform(data[scale_cols])\n",
    "scaled"
   ]
  },
  {
   "cell_type": "code",
   "execution_count": null,
   "id": "8e13e1ef",
   "metadata": {},
   "outputs": [],
   "source": [
    "# 전처리 완료된 최종 데이터 프레임 df 생성\n",
    "\n",
    "df = pd.DataFrame(scaled, columns=scale_cols)"
   ]
  },
  {
   "cell_type": "markdown",
   "id": "37b86cb4-bc82-4b51-813d-17d2376e49d6",
   "metadata": {
    "tags": []
   },
   "source": [
    "## 데이터 split"
   ]
  },
  {
   "cell_type": "code",
   "execution_count": null,
   "id": "edd3736b",
   "metadata": {},
   "outputs": [],
   "source": [
    "x_train, x_test, y_train, y_test = train_test_split(df.drop('Close', 1), df['Close'], test_size=0.2, random_state=0, shuffle=False)"
   ]
  },
  {
   "cell_type": "code",
   "execution_count": null,
   "id": "c5a1cdcf",
   "metadata": {},
   "outputs": [],
   "source": [
    "x_train.shape, y_train.shape"
   ]
  },
  {
   "cell_type": "code",
   "execution_count": null,
   "id": "a74435aa",
   "metadata": {},
   "outputs": [],
   "source": [
    "x_test.shape, y_test.shape"
   ]
  },
  {
   "cell_type": "code",
   "execution_count": null,
   "id": "c1f9313c",
   "metadata": {},
   "outputs": [],
   "source": [
    "x_train"
   ]
  },
  {
   "cell_type": "code",
   "execution_count": null,
   "id": "6a498453",
   "metadata": {},
   "outputs": [],
   "source": [
    "# trian_data는 학습용 데이터셋, test_data는 검증용 데이터셋 입니다.\n",
    "train_data = windowed_dataset(y_train, WINDOW_SIZE, BATCH_SIZE, True)\n",
    "test_data = windowed_dataset(y_test, WINDOW_SIZE, BATCH_SIZE, False)"
   ]
  },
  {
   "cell_type": "code",
   "execution_count": null,
   "id": "d4375ee9",
   "metadata": {},
   "outputs": [],
   "source": [
    "# 아래의 코드로 데이터셋의 구성을 확인해 볼 수 있습니다.\n",
    "# X: (batch_size, window_size, feature)\n",
    "# Y: (batch_size, feature)\n",
    "for data in train_data.take(1):\n",
    "    print(f'데이터셋(X) 구성(batch_size, window_size, feature갯수): {data[0].shape}')\n",
    "    print(f'데이터셋(Y) 구성(batch_size, window_size, feature갯수): {data[1].shape}')"
   ]
  },
  {
   "cell_type": "markdown",
   "id": "62114fe4-63f9-4c76-bb50-e8be71aa5d29",
   "metadata": {
    "tags": []
   },
   "source": [
    "## Modeling"
   ]
  },
  {
   "cell_type": "code",
   "execution_count": null,
   "id": "080d2233",
   "metadata": {},
   "outputs": [],
   "source": [
    "model = Sequential([\n",
    "    # 1차원 feature map 생성\n",
    "    Conv1D(filters=32, kernel_size=5,\n",
    "           padding=\"causal\",\n",
    "           activation=\"relu\",\n",
    "           input_shape=[WINDOW_SIZE, 1]),\n",
    "    # LSTM\n",
    "    LSTM(16, activation='tanh'),\n",
    "    Dense(16, activation=\"relu\"),\n",
    "    Dense(1),\n",
    "])"
   ]
  },
  {
   "cell_type": "code",
   "execution_count": null,
   "id": "6443999e",
   "metadata": {},
   "outputs": [],
   "source": [
    "# Sequence 학습에 비교적 좋은 퍼포먼스를 내는 Huber()를 사용합니다.\n",
    "loss = Huber()\n",
    "optimizer = Adam(0.0005)\n",
    "model.compile(loss=Huber(), optimizer=optimizer, metrics=['mse'])"
   ]
  },
  {
   "cell_type": "code",
   "execution_count": null,
   "id": "38d0e9c0",
   "metadata": {},
   "outputs": [],
   "source": [
    "# earlystopping은 10번 epoch통안 val_loss 개선이 없다면 학습을 멈춥니다.\n",
    "earlystopping = EarlyStopping(monitor='val_loss', patience=10)\n",
    "# val_loss 기준 체크포인터도 생성합니다.\n",
    "filename = os.path.join('tmp', 'ckeckpointer.ckpt')\n",
    "checkpoint = ModelCheckpoint(filename, \n",
    "                             save_weights_only=True, \n",
    "                             save_best_only=True, \n",
    "                             monitor='val_loss', \n",
    "                             verbose=1)"
   ]
  },
  {
   "cell_type": "code",
   "execution_count": null,
   "id": "3e7de470",
   "metadata": {
    "scrolled": true,
    "tags": []
   },
   "outputs": [],
   "source": [
    "history = model.fit(train_data, \n",
    "                    validation_data=(test_data), \n",
    "                    epochs=50, \n",
    "                    callbacks=[checkpoint, earlystopping])"
   ]
  },
  {
   "cell_type": "markdown",
   "id": "df96070c-ffa3-4b0e-9b32-3c61809956c0",
   "metadata": {
    "tags": []
   },
   "source": [
    "## 결과"
   ]
  },
  {
   "cell_type": "code",
   "execution_count": null,
   "id": "da91da3c",
   "metadata": {},
   "outputs": [],
   "source": [
    "model.load_weights(filename)"
   ]
  },
  {
   "cell_type": "code",
   "execution_count": null,
   "id": "190f3141",
   "metadata": {},
   "outputs": [],
   "source": [
    "pred = model.predict(test_data)"
   ]
  },
  {
   "cell_type": "code",
   "execution_count": null,
   "id": "f35dae90",
   "metadata": {},
   "outputs": [],
   "source": [
    "pred.shape"
   ]
  },
  {
   "cell_type": "code",
   "execution_count": null,
   "id": "642c5ee7",
   "metadata": {},
   "outputs": [],
   "source": [
    "plt.figure(figsize=(12, 9))\n",
    "plt.plot(np.asarray(y_test)[20:], label='actual')\n",
    "plt.plot(pred, label='prediction')\n",
    "plt.legend()\n",
    "plt.show()"
   ]
  },
  {
   "cell_type": "code",
   "execution_count": null,
   "id": "6b54e180",
   "metadata": {
    "tags": []
   },
   "outputs": [],
   "source": [
    "model.summary()"
   ]
  },
  {
   "cell_type": "markdown",
   "id": "14a34d1a-f26b-4a9a-868f-338ec191d89d",
   "metadata": {
    "jp-MarkdownHeadingCollapsed": true,
    "tags": []
   },
   "source": [
    "# 2. 다중 채널 비트코인 가격 예측 (many to many)"
   ]
  },
  {
   "cell_type": "markdown",
   "id": "8f7ef1d3-bdd5-421f-b8b8-f1d7ffe681d5",
   "metadata": {
    "tags": []
   },
   "source": [
    "## 데이터 전처리"
   ]
  },
  {
   "cell_type": "code",
   "execution_count": 4,
   "id": "bba3a02c-ae64-4e54-a7f7-fe1c429c71ad",
   "metadata": {},
   "outputs": [],
   "source": [
    "data.columns = ['Open','High','Low','Close','Volume']"
   ]
  },
  {
   "cell_type": "code",
   "execution_count": 5,
   "id": "ffcff96b-b0e9-4066-b583-0c2d9c902b06",
   "metadata": {},
   "outputs": [
    {
     "data": {
      "text/plain": [
       "array([[3.18199066e-03, 2.52605283e-03, 3.32614195e-03, 3.18589848e-03,\n",
       "        3.55568085e-03],\n",
       "       [3.18421666e-03, 2.45903451e-03, 3.34233013e-03, 3.13574788e-03,\n",
       "        1.48326158e-03],\n",
       "       [3.18169386e-03, 2.46368654e-03, 3.33794268e-03, 3.21067703e-03,\n",
       "        3.26371389e-03],\n",
       "       ...,\n",
       "       [5.38474529e-01, 5.32267068e-01, 5.12085159e-01, 5.18259121e-01,\n",
       "        5.83995879e-06],\n",
       "       [5.18253856e-01, 5.28610717e-01, 5.21534670e-01, 5.36101310e-01,\n",
       "        3.28059996e-06],\n",
       "       [5.35726757e-01, 5.24284183e-01, 5.41094382e-01, 5.30519756e-01,\n",
       "        4.88827305e-08]])"
      ]
     },
     "execution_count": 5,
     "metadata": {},
     "output_type": "execute_result"
    }
   ],
   "source": [
    "# MinMax 스케일링\n",
    "\n",
    "\n",
    "scaler = MinMaxScaler()\n",
    "# 스케일을 적용할 column을 정의합니다.\n",
    "scale_cols = ['Open', 'High', 'Low', 'Close', 'Volume']\n",
    "# 스케일 후 columns\n",
    "scaled = scaler.fit_transform(data[scale_cols])\n",
    "scaled"
   ]
  },
  {
   "cell_type": "code",
   "execution_count": 6,
   "id": "7dc9e31b-b13c-466a-81a2-ee0b1d11e7af",
   "metadata": {},
   "outputs": [],
   "source": [
    "# 전처리 완료된 최종 데이터 프레임 df 생성\n",
    "\n",
    "df = pd.DataFrame(scaled, columns=scale_cols)"
   ]
  },
  {
   "cell_type": "code",
   "execution_count": 7,
   "id": "6cd9a5c6-b9b9-49ab-b750-75e1364fb739",
   "metadata": {},
   "outputs": [],
   "source": [
    "# data를 numpy형태로 전환\n",
    "\n",
    "seq=df.to_numpy()"
   ]
  },
  {
   "cell_type": "markdown",
   "id": "2dff2b6c-fb64-4900-9bd7-2b92cfbfa6dd",
   "metadata": {
    "tags": []
   },
   "source": [
    "## 윈도우 크기와 수평선 크기"
   ]
  },
  {
   "attachments": {
    "b2637f79-7dbf-4629-837f-2db4e2f95367.png": {
     "image/png": "[encoded data removed]"
    }
   },
   "cell_type": "markdown",
   "id": "36b72f4b-00b9-4eaa-b5d8-69c8b2119283",
   "metadata": {},
   "source": [
    "![image.png](attachment:b2637f79-7dbf-4629-837f-2db4e2f95367.png)"
   ]
  },
  {
   "cell_type": "code",
   "execution_count": 8,
   "id": "508bc76d-ec20-4b75-9d53-5a2ff9b6d1be",
   "metadata": {},
   "outputs": [],
   "source": [
    "def seq2dataset(seq,window,horizon):\n",
    "    X=[]; Y=[]\n",
    "    for i in range(len(seq)-(window+horizon)+1):\n",
    "        x=seq[i:(i+window)]\n",
    "        y=(seq[i+window+horizon-1])\n",
    "        X.append(x); Y.append(y)\n",
    "    return np.array(X), np.array(Y)"
   ]
  },
  {
   "cell_type": "code",
   "execution_count": 9,
   "id": "f8c4d887-d8d0-4192-a83a-ef83f3b4b84f",
   "metadata": {},
   "outputs": [],
   "source": [
    "# 윈도우 w와 수평선 h\n",
    "\n",
    "w = 100   # 윈도우는 이전 요소 몇 개를 볼 것인지\n",
    "h = 10    # 수평선은 얼마나 먼 미래를 예측할 것인지"
   ]
  },
  {
   "cell_type": "code",
   "execution_count": 10,
   "id": "2fe26d09-6a93-4041-b4d2-7a7502fccdae",
   "metadata": {},
   "outputs": [],
   "source": [
    "X, Y = seq2dataset(seq, w, h)"
   ]
  },
  {
   "cell_type": "code",
   "execution_count": 11,
   "id": "d355a68a-ba42-4cc0-8f84-735be4350a80",
   "metadata": {},
   "outputs": [
    {
     "name": "stdout",
     "output_type": "stream",
     "text": [
      "(2505, 100, 5) (2505, 5)\n"
     ]
    }
   ],
   "source": [
    "print(X.shape, Y.shape)"
   ]
  },
  {
   "cell_type": "code",
   "execution_count": 28,
   "id": "1979b46e-dc5d-4552-b5df-2773cdbfb903",
   "metadata": {
    "collapsed": true,
    "jupyter": {
     "outputs_hidden": true
    },
    "tags": []
   },
   "outputs": [
    {
     "name": "stdout",
     "output_type": "stream",
     "text": [
      "[[3.18199066e-03 2.52605283e-03 3.32614195e-03 3.18589848e-03\n",
      "  3.55568085e-03]\n",
      " [3.18421666e-03 2.45903451e-03 3.34233013e-03 3.13574788e-03\n",
      "  1.48326158e-03]\n",
      " [3.18169386e-03 2.46368654e-03 3.33794268e-03 3.21067703e-03\n",
      "  3.26371389e-03]\n",
      " [3.21122544e-03 2.47168222e-03 3.37122679e-03 3.22343724e-03\n",
      "  3.35812190e-03]\n",
      " [3.22398783e-03 2.47371748e-03 3.35609765e-03 3.18515661e-03\n",
      "  3.88222656e-03]\n",
      " [3.18570066e-03 2.41542172e-03 3.14096125e-03 3.01497099e-03\n",
      "  4.27006434e-03]\n",
      " [3.01548597e-03 2.39943036e-03 3.20117523e-03 3.15963619e-03\n",
      "  4.31391354e-03]\n",
      " [3.16017588e-03 2.38634652e-03 3.31192055e-03 3.16141668e-03\n",
      "  1.11577864e-03]\n",
      " [3.16195668e-03 2.39376070e-03 3.33990947e-03 3.18812410e-03\n",
      "  1.18306458e-03]\n",
      " [3.18866866e-03 2.39303382e-03 3.21040401e-03 3.00621689e-03\n",
      "  4.73274504e-03]\n",
      " [3.00673038e-03 2.21901878e-03 2.89828980e-03 2.79671202e-03\n",
      "  9.55092856e-03]\n",
      " [2.79718972e-03 2.04834740e-03 2.94761081e-03 2.76169562e-03\n",
      "  2.98361775e-03]\n",
      " [2.76216734e-03 2.20375431e-03 2.83520128e-03 2.77430746e-03\n",
      "  7.56420071e-03]\n",
      " [2.77478134e-03 2.11885474e-03 2.95926025e-03 2.85591347e-03\n",
      "  3.68554064e-03]\n",
      " [2.85640128e-03 2.06593789e-03 2.94458498e-03 2.81095598e-03\n",
      "  1.75988548e-03]\n",
      " [2.81143611e-03 2.02276122e-03 2.97378422e-03 2.79196403e-03\n",
      "  2.54854400e-04]\n",
      " [2.79244092e-03 1.99644817e-03 2.99209048e-03 2.79196403e-03\n",
      "  0.00000000e+00]\n",
      " [2.79244092e-03 1.99644817e-03 2.68693568e-03 2.49298930e-03\n",
      "  2.46277173e-03]\n",
      " [2.51626871e-03 1.79030505e-03 2.46347825e-03 2.36063920e-03\n",
      "  9.82312169e-03]\n",
      " [2.36430721e-03 1.63940480e-03 2.30855583e-03 2.22814072e-03\n",
      "  8.79010641e-03]\n",
      " [2.20344172e-03 1.55784888e-03 2.34062961e-03 2.31464309e-03\n",
      "  6.47284359e-03]\n",
      " [2.30361165e-03 1.74683764e-03 2.48299484e-03 2.49254418e-03\n",
      "  4.68348916e-03]\n",
      " [2.53140550e-03 1.74654688e-03 2.51718671e-03 2.39105598e-03\n",
      "  2.73809002e-03]\n",
      " [2.37796000e-03 1.76122986e-03 2.53413135e-03 2.50040803e-03\n",
      "  4.94753369e-03]\n",
      " [2.50083512e-03 1.83391784e-03 2.64896154e-03 2.57415018e-03\n",
      "  3.37202488e-03]\n",
      " [2.59699826e-03 1.80498802e-03 2.54956307e-03 2.37607015e-03\n",
      "  2.36487848e-03]\n",
      " [2.35837122e-03 1.61934291e-03 2.48465905e-03 2.33526715e-03\n",
      "  1.62537116e-03]\n",
      " [2.32987844e-03 1.73230004e-03 2.48481034e-03 2.50574951e-03\n",
      "  2.67624694e-03]\n",
      " [2.50751312e-03 1.71732631e-03 2.40901334e-03 2.28333605e-03\n",
      "  3.55774788e-03]\n",
      " [2.28372607e-03 1.55145233e-03 2.40281039e-03 2.29431577e-03\n",
      "  1.66885621e-03]\n",
      " [2.29470766e-03 1.55988414e-03 2.40871076e-03 2.26686648e-03\n",
      "  2.40777011e-03]\n",
      " [2.26725368e-03 1.51089244e-03 2.38435284e-03 2.22472810e-03\n",
      "  4.00339733e-03]\n",
      " [2.22510811e-03 1.55784888e-03 2.39479194e-03 2.33318990e-03\n",
      "  2.49289324e-03]\n",
      " [2.33358843e-03 1.57238647e-03 2.42368861e-03 2.28956778e-03\n",
      "  1.31859318e-03]\n",
      " [2.28995886e-03 1.51438146e-03 2.41400595e-03 2.29253528e-03\n",
      "  1.41593970e-03]\n",
      " [2.29292686e-03 1.50813030e-03 2.00612428e-03 1.83999288e-03\n",
      "  7.87079271e-03]\n",
      " [1.84030716e-03 1.11895883e-03 1.55225001e-03 1.52261970e-03\n",
      "  1.50383492e-02]\n",
      " [1.52287978e-03 9.76345004e-04 1.67237540e-03 1.70333991e-03\n",
      "  3.43891989e-03]\n",
      " [1.70363086e-03 9.29824694e-04 1.88206531e-03 1.70333991e-03\n",
      "  0.00000000e+00]\n",
      " [1.70363086e-03 9.29824694e-04 1.88206531e-03 1.70333991e-03\n",
      "  0.00000000e+00]\n",
      " [1.70363086e-03 9.29824694e-04 1.88206531e-03 1.70333991e-03\n",
      "  0.00000000e+00]\n",
      " [1.70363086e-03 9.29824694e-04 1.88206531e-03 1.70333991e-03\n",
      "  0.00000000e+00]\n",
      " [1.70363086e-03 9.29824694e-04 1.88206531e-03 1.70333991e-03\n",
      "  0.00000000e+00]\n",
      " [1.70363086e-03 9.29824694e-04 1.88206531e-03 1.70333991e-03\n",
      "  0.00000000e+00]\n",
      " [1.60865492e-03 8.66295396e-04 1.68145288e-03 1.57514429e-03\n",
      "  2.76265494e-03]\n",
      " [1.57541334e-03 8.12360912e-04 9.62213454e-04 8.75409885e-04\n",
      "  1.76766902e-02]\n",
      " [8.75559412e-04 2.62403623e-04 0.00000000e+00 0.00000000e+00\n",
      "  3.06186154e-02]\n",
      " [0.00000000e+00 3.06161789e-04 1.31623539e-04 6.94541300e-04\n",
      "  2.29452851e-02]\n",
      " [7.83106274e-04 1.49882623e-04 6.90494057e-04 6.61750523e-04\n",
      "  9.46242523e-03]\n",
      " [6.61863555e-04 0.00000000e+00 6.01685992e-04 5.65307061e-04\n",
      "  5.18876472e-03]\n",
      " [5.65403620e-04 1.33164387e-04 6.44804047e-04 7.33267059e-04\n",
      "  4.94172725e-03]\n",
      " [7.13061521e-04 1.17754534e-04 8.36641572e-04 8.14279567e-04\n",
      "  3.53369680e-03]\n",
      " [8.28665043e-04 7.26879842e-05 7.50102878e-04 7.28222324e-04\n",
      "  3.88217679e-03]\n",
      " [7.28346711e-04 2.33473805e-04 7.95792888e-04 9.88026173e-04\n",
      "  6.39315960e-03]\n",
      " [9.88194936e-04 3.80303533e-04 1.11365617e-03 1.05345935e-03\n",
      "  7.77270558e-03]\n",
      " [1.05363929e-03 3.94841130e-04 1.10669676e-03 1.05390448e-03\n",
      "  4.58305272e-03]\n",
      " [1.05408449e-03 5.40071723e-04 1.17447532e-03 1.30554772e-03\n",
      "  4.26964612e-03]\n",
      " [1.30577072e-03 6.41980277e-04 1.34543463e-03 1.35154384e-03\n",
      "  9.08825301e-03]\n",
      " [1.35177469e-03 1.41101915e-03 1.52335334e-03 1.59502648e-03\n",
      "  2.02177644e-02]\n",
      " [1.59529893e-03 9.54683985e-04 1.37221321e-03 1.49843465e-03\n",
      "  7.12305590e-03]\n",
      " [1.49869059e-03 7.79360567e-04 1.11214325e-03 1.10093921e-03\n",
      "  8.77087429e-03]\n",
      " [1.10112726e-03 4.26533091e-04 1.02273002e-03 1.07942490e-03\n",
      "  7.86711443e-03]\n",
      " [1.07960927e-03 4.67238363e-04 1.13256760e-03 1.04752437e-03\n",
      "  6.02536177e-03]\n",
      " [1.04770330e-03 3.19245627e-04 9.58431168e-04 8.30600769e-04\n",
      "  5.81944634e-03]\n",
      " [8.30742642e-04 1.15864647e-04 8.48442304e-04 7.83417660e-04\n",
      "  1.73059158e-03]\n",
      " [7.83551474e-04 4.23625572e-04 9.44058483e-04 1.12720151e-03\n",
      "  1.93541572e-03]\n",
      " [1.12739404e-03 4.58661180e-04 1.08006947e-03 9.69627728e-04\n",
      "  5.40986655e-03]\n",
      " [9.69793349e-04 2.64002759e-04 1.02303261e-03 9.64434619e-04\n",
      "  4.16971162e-03]\n",
      " [9.64599352e-04 2.34055309e-04 9.26508678e-04 8.16060062e-04\n",
      "  1.23514190e-03]\n",
      " [8.13379854e-04 1.89279511e-04 9.46327855e-04 9.03304301e-04\n",
      "  1.35246148e-03]\n",
      " [9.10730188e-04 2.66038022e-04 1.04950861e-03 9.88322922e-04\n",
      "  1.87026302e-03]\n",
      " [9.83891339e-04 2.91478817e-04 1.01819128e-03 9.22741368e-04\n",
      "  1.59628606e-03]\n",
      " [9.22898980e-04 1.91169398e-04 9.47084312e-04 8.71255397e-04\n",
      "  5.53782447e-03]\n",
      " [8.71404215e-04 1.33164387e-04 9.47084312e-04 8.74668012e-04\n",
      "  1.79376199e-03]\n",
      " [8.74817412e-04 1.53953151e-04 9.92320447e-04 8.47515468e-04\n",
      "  2.66350890e-03]\n",
      " [8.54041426e-04 1.48719616e-04 9.95043693e-04 8.97072570e-04\n",
      "  1.14795720e-03]\n",
      " [9.05239392e-04 4.29004483e-04 1.04345695e-03 1.11073193e-03\n",
      "  2.45363983e-03]\n",
      " [1.11299925e-03 6.75562125e-04 1.27841253e-03 1.42291200e-03\n",
      "  3.49453510e-03]\n",
      " [1.40965065e-03 7.71219512e-04 1.13998088e-03 1.06844518e-03\n",
      "  5.86958633e-03]\n",
      " [1.06862768e-03 4.12722374e-04 1.16191813e-03 1.10613232e-03\n",
      "  3.76494059e-03]\n",
      " [1.10632126e-03 5.22481231e-04 1.20443102e-03 1.23091532e-03\n",
      "  3.71853975e-03]\n",
      " [1.23112557e-03 4.96604308e-04 1.20791073e-03 1.09485585e-03\n",
      "  2.10614042e-03]\n",
      " [1.11849005e-03 4.67674490e-04 1.25965239e-03 1.19693755e-03\n",
      "  1.47384744e-03]\n",
      " [1.16627482e-03 5.25097998e-04 1.31638668e-03 1.24783002e-03\n",
      "  1.44439479e-03]\n",
      " [1.23884237e-03 5.03582355e-04 1.38582944e-03 1.24441741e-03\n",
      "  4.93800952e-04]\n",
      " [1.23780357e-03 5.02710099e-04 1.21154172e-03 1.10806119e-03\n",
      "  2.06950856e-03]\n",
      " [1.10825046e-03 4.04435944e-04 1.20503619e-03 1.14129709e-03\n",
      "  1.13069893e-03]\n",
      " [1.15232523e-03 4.07634215e-04 1.26933504e-03 1.15272193e-03\n",
      "  7.51627167e-04]\n",
      " [1.15662882e-03 4.03709064e-04 1.26479630e-03 1.12764663e-03\n",
      "  5.35262779e-04]\n",
      " [1.12739404e-03 3.73761615e-04 1.23468931e-03 1.10835794e-03\n",
      "  1.07032676e-03]\n",
      " [1.10854726e-03 6.29623319e-04 1.26721696e-03 1.35109871e-03\n",
      "  7.13130893e-03]\n",
      " [1.35132949e-03 6.02583389e-04 1.40398441e-03 1.34991172e-03\n",
      "  1.17420731e-03]\n",
      " [1.35741389e-03 6.85593067e-04 1.40095858e-03 1.39190172e-03\n",
      "  1.65176045e-03]\n",
      " [1.42968464e-03 9.00894876e-04 1.56737915e-03 1.66179504e-03\n",
      "  3.36407042e-03]\n",
      " [1.66207888e-03 1.04830611e-03 1.71700637e-03 1.73598231e-03\n",
      "  7.90344281e-03]\n",
      " [1.73627883e-03 1.03275088e-03 1.70263368e-03 1.59992285e-03\n",
      "  5.09382306e-03]\n",
      " [1.60019613e-03 9.83613802e-04 1.66117983e-03 1.65882754e-03\n",
      "  3.97553933e-03]\n",
      " [1.65911089e-03 9.24881911e-04 1.76405800e-03 1.65081532e-03\n",
      "  2.46981340e-03]\n",
      " [1.65109729e-03 9.68785454e-04 1.77918714e-03 1.68538659e-03\n",
      "  1.99495184e-03]\n",
      " [1.68567447e-03 9.41309396e-04 1.79613178e-03 1.67500037e-03\n",
      "  1.58388069e-03]] [0.00181731 0.00104147 0.00146178 0.00141386 0.00731645]\n"
     ]
    }
   ],
   "source": [
    "print(X[0], Y[0])"
   ]
  },
  {
   "cell_type": "markdown",
   "id": "6370350f-510d-4683-9e6c-ff456a77f0f0",
   "metadata": {},
   "source": [
    "## 데이터셋 split"
   ]
  },
  {
   "cell_type": "code",
   "execution_count": 13,
   "id": "e8fa0e20-98f1-47d2-865e-a21d5a346c6d",
   "metadata": {},
   "outputs": [],
   "source": [
    "split=int(len(X)*0.7)"
   ]
  },
  {
   "cell_type": "code",
   "execution_count": 14,
   "id": "2b449edf-79db-4bed-ba97-90b190b95e18",
   "metadata": {},
   "outputs": [],
   "source": [
    "x_train=X[0:split]\n",
    "y_train=Y[0:split]\n",
    "x_test=X[split:]\n",
    "y_test=Y[split:]"
   ]
  },
  {
   "cell_type": "markdown",
   "id": "67a55707-ea32-4ad9-a11c-83eab99faa1b",
   "metadata": {},
   "source": [
    "## Modeling"
   ]
  },
  {
   "cell_type": "code",
   "execution_count": 108,
   "id": "668f22f7-a7e9-4901-9a78-7038b727c27e",
   "metadata": {},
   "outputs": [],
   "source": [
    "model = Sequential()\n",
    "model.add(LSTM(units=16,activation='tanh',input_shape=x_train[0].shape))\n",
    "model.add(Dense(16, activation=\"relu\"))\n",
    "model.add(Dense(5))"
   ]
  },
  {
   "cell_type": "code",
   "execution_count": 109,
   "id": "84200f35-3c04-4a80-a2ea-f71d91ebfc19",
   "metadata": {},
   "outputs": [],
   "source": [
    "# Sequence 학습에 비교적 좋은 퍼포먼스를 내는 Huber()를 사용합니다.\n",
    "loss = Huber()\n",
    "optimizer = Adam(0.0005)\n",
    "model.compile(loss=Huber(), optimizer=optimizer, metrics=['mse'])"
   ]
  },
  {
   "cell_type": "code",
   "execution_count": 110,
   "id": "e8d71e83-a5c5-4c7b-8b1f-f79ce7cec98c",
   "metadata": {},
   "outputs": [],
   "source": [
    "# earlystopping은 10번 epoch통안 val_loss 개선이 없다면 학습을 멈춥니다.\n",
    "earlystopping = EarlyStopping(monitor='val_loss', patience=10)\n",
    "# val_loss 기준 체크포인터도 생성합니다.\n",
    "filename = os.path.join('tmp', 'ckeckpointer.ckpt')\n",
    "checkpoint = ModelCheckpoint(filename, \n",
    "                             save_weights_only=True, \n",
    "                             save_best_only=True, \n",
    "                             monitor='val_loss', \n",
    "                             verbose=1)"
   ]
  },
  {
   "cell_type": "code",
   "execution_count": 111,
   "id": "5fd2b062-1586-4223-aee1-4eaf5afc0dff",
   "metadata": {},
   "outputs": [
    {
     "name": "stdout",
     "output_type": "stream",
     "text": [
      "Epoch 1/200\n",
      "109/110 [============================>.] - ETA: 0s - loss: 8.7165e-04 - mse: 0.0017\n",
      "Epoch 1: val_loss improved from inf to 0.03985, saving model to tmp\\ckeckpointer.ckpt\n",
      "110/110 [==============================] - 4s 25ms/step - loss: 8.7021e-04 - mse: 0.0017 - val_loss: 0.0398 - val_mse: 0.0797\n",
      "Epoch 2/200\n",
      "108/110 [============================>.] - ETA: 0s - loss: 3.4898e-04 - mse: 6.9795e-04\n",
      "Epoch 2: val_loss improved from 0.03985 to 0.03949, saving model to tmp\\ckeckpointer.ckpt\n",
      "110/110 [==============================] - 3s 23ms/step - loss: 3.4649e-04 - mse: 6.9299e-04 - val_loss: 0.0395 - val_mse: 0.0790\n",
      "Epoch 3/200\n",
      "110/110 [==============================] - ETA: 0s - loss: 2.9525e-04 - mse: 5.9049e-04\n",
      "Epoch 3: val_loss improved from 0.03949 to 0.03921, saving model to tmp\\ckeckpointer.ckpt\n",
      "110/110 [==============================] - 3s 24ms/step - loss: 2.9525e-04 - mse: 5.9049e-04 - val_loss: 0.0392 - val_mse: 0.0784\n",
      "Epoch 4/200\n",
      "108/110 [============================>.] - ETA: 0s - loss: 2.6703e-04 - mse: 5.3406e-04\n",
      "Epoch 4: val_loss did not improve from 0.03921\n",
      "110/110 [==============================] - 2s 22ms/step - loss: 2.8025e-04 - mse: 5.6050e-04 - val_loss: 0.0402 - val_mse: 0.0804\n",
      "Epoch 5/200\n",
      "108/110 [============================>.] - ETA: 0s - loss: 2.7566e-04 - mse: 5.5132e-04\n",
      "Epoch 5: val_loss improved from 0.03921 to 0.03898, saving model to tmp\\ckeckpointer.ckpt\n",
      "110/110 [==============================] - 3s 23ms/step - loss: 2.7515e-04 - mse: 5.5030e-04 - val_loss: 0.0390 - val_mse: 0.0780\n",
      "Epoch 6/200\n",
      "110/110 [==============================] - ETA: 0s - loss: 2.6919e-04 - mse: 5.3838e-04\n",
      "Epoch 6: val_loss improved from 0.03898 to 0.03836, saving model to tmp\\ckeckpointer.ckpt\n",
      "110/110 [==============================] - 3s 23ms/step - loss: 2.6919e-04 - mse: 5.3838e-04 - val_loss: 0.0384 - val_mse: 0.0767\n",
      "Epoch 7/200\n",
      "108/110 [============================>.] - ETA: 0s - loss: 2.6807e-04 - mse: 5.3615e-04\n",
      "Epoch 7: val_loss improved from 0.03836 to 0.03785, saving model to tmp\\ckeckpointer.ckpt\n",
      "110/110 [==============================] - 2s 22ms/step - loss: 2.6548e-04 - mse: 5.3096e-04 - val_loss: 0.0379 - val_mse: 0.0757\n",
      "Epoch 8/200\n",
      "109/110 [============================>.] - ETA: 0s - loss: 2.6530e-04 - mse: 5.3060e-04\n",
      "Epoch 8: val_loss did not improve from 0.03785\n",
      "110/110 [==============================] - 3s 23ms/step - loss: 2.6396e-04 - mse: 5.2792e-04 - val_loss: 0.0382 - val_mse: 0.0764\n",
      "Epoch 9/200\n",
      "110/110 [==============================] - ETA: 0s - loss: 2.6029e-04 - mse: 5.2059e-04\n",
      "Epoch 9: val_loss improved from 0.03785 to 0.03779, saving model to tmp\\ckeckpointer.ckpt\n",
      "110/110 [==============================] - 3s 23ms/step - loss: 2.6029e-04 - mse: 5.2059e-04 - val_loss: 0.0378 - val_mse: 0.0756\n",
      "Epoch 10/200\n",
      "109/110 [============================>.] - ETA: 0s - loss: 2.5778e-04 - mse: 5.1555e-04\n",
      "Epoch 10: val_loss improved from 0.03779 to 0.03695, saving model to tmp\\ckeckpointer.ckpt\n",
      "110/110 [==============================] - 3s 23ms/step - loss: 2.5669e-04 - mse: 5.1338e-04 - val_loss: 0.0370 - val_mse: 0.0739\n",
      "Epoch 11/200\n",
      "110/110 [==============================] - ETA: 0s - loss: 2.5457e-04 - mse: 5.0914e-04\n",
      "Epoch 11: val_loss improved from 0.03695 to 0.03608, saving model to tmp\\ckeckpointer.ckpt\n",
      "110/110 [==============================] - 3s 23ms/step - loss: 2.5457e-04 - mse: 5.0914e-04 - val_loss: 0.0361 - val_mse: 0.0722\n",
      "Epoch 12/200\n",
      "110/110 [==============================] - ETA: 0s - loss: 2.4922e-04 - mse: 4.9845e-04\n",
      "Epoch 12: val_loss improved from 0.03608 to 0.03536, saving model to tmp\\ckeckpointer.ckpt\n",
      "110/110 [==============================] - 3s 23ms/step - loss: 2.4922e-04 - mse: 4.9845e-04 - val_loss: 0.0354 - val_mse: 0.0707\n",
      "Epoch 13/200\n",
      "109/110 [============================>.] - ETA: 0s - loss: 2.5909e-04 - mse: 5.1818e-04\n",
      "Epoch 13: val_loss did not improve from 0.03536\n",
      "110/110 [==============================] - 3s 23ms/step - loss: 2.5795e-04 - mse: 5.1591e-04 - val_loss: 0.0371 - val_mse: 0.0742\n",
      "Epoch 14/200\n",
      "110/110 [==============================] - ETA: 0s - loss: 2.5049e-04 - mse: 5.0098e-04\n",
      "Epoch 14: val_loss improved from 0.03536 to 0.03495, saving model to tmp\\ckeckpointer.ckpt\n",
      "110/110 [==============================] - 3s 23ms/step - loss: 2.5049e-04 - mse: 5.0098e-04 - val_loss: 0.0349 - val_mse: 0.0699\n",
      "Epoch 15/200\n",
      "109/110 [============================>.] - ETA: 0s - loss: 2.4734e-04 - mse: 4.9468e-04\n",
      "Epoch 15: val_loss did not improve from 0.03495\n",
      "110/110 [==============================] - 3s 23ms/step - loss: 2.4844e-04 - mse: 4.9687e-04 - val_loss: 0.0369 - val_mse: 0.0738\n",
      "Epoch 16/200\n",
      "107/110 [============================>.] - ETA: 0s - loss: 2.5184e-04 - mse: 5.0369e-04\n",
      "Epoch 16: val_loss did not improve from 0.03495\n",
      "110/110 [==============================] - 2s 22ms/step - loss: 2.4910e-04 - mse: 4.9820e-04 - val_loss: 0.0372 - val_mse: 0.0745\n",
      "Epoch 17/200\n",
      "109/110 [============================>.] - ETA: 0s - loss: 2.4647e-04 - mse: 4.9295e-04\n",
      "Epoch 17: val_loss did not improve from 0.03495\n",
      "110/110 [==============================] - 3s 23ms/step - loss: 2.4616e-04 - mse: 4.9233e-04 - val_loss: 0.0358 - val_mse: 0.0716\n",
      "Epoch 18/200\n",
      "110/110 [==============================] - ETA: 0s - loss: 2.4264e-04 - mse: 4.8527e-04\n",
      "Epoch 18: val_loss improved from 0.03495 to 0.03314, saving model to tmp\\ckeckpointer.ckpt\n",
      "110/110 [==============================] - 3s 23ms/step - loss: 2.4264e-04 - mse: 4.8527e-04 - val_loss: 0.0331 - val_mse: 0.0663\n",
      "Epoch 19/200\n",
      "109/110 [============================>.] - ETA: 0s - loss: 2.4056e-04 - mse: 4.8112e-04\n",
      "Epoch 19: val_loss did not improve from 0.03314\n",
      "110/110 [==============================] - 2s 23ms/step - loss: 2.3977e-04 - mse: 4.7954e-04 - val_loss: 0.0338 - val_mse: 0.0676\n",
      "Epoch 20/200\n",
      "109/110 [============================>.] - ETA: 0s - loss: 2.3905e-04 - mse: 4.7810e-04\n",
      "Epoch 20: val_loss improved from 0.03314 to 0.03185, saving model to tmp\\ckeckpointer.ckpt\n",
      "110/110 [==============================] - 3s 23ms/step - loss: 2.3898e-04 - mse: 4.7795e-04 - val_loss: 0.0318 - val_mse: 0.0637\n",
      "Epoch 21/200\n",
      "109/110 [============================>.] - ETA: 0s - loss: 2.3309e-04 - mse: 4.6618e-04\n",
      "Epoch 21: val_loss improved from 0.03185 to 0.03184, saving model to tmp\\ckeckpointer.ckpt\n",
      "110/110 [==============================] - 2s 22ms/step - loss: 2.3730e-04 - mse: 4.7460e-04 - val_loss: 0.0318 - val_mse: 0.0637\n",
      "Epoch 22/200\n",
      "108/110 [============================>.] - ETA: 0s - loss: 2.4238e-04 - mse: 4.8477e-04\n",
      "Epoch 22: val_loss did not improve from 0.03184\n",
      "110/110 [==============================] - 2s 23ms/step - loss: 2.3959e-04 - mse: 4.7918e-04 - val_loss: 0.0333 - val_mse: 0.0666\n",
      "Epoch 23/200\n",
      "109/110 [============================>.] - ETA: 0s - loss: 2.4321e-04 - mse: 4.8642e-04\n",
      "Epoch 23: val_loss improved from 0.03184 to 0.02967, saving model to tmp\\ckeckpointer.ckpt\n",
      "110/110 [==============================] - 2s 22ms/step - loss: 2.4294e-04 - mse: 4.8589e-04 - val_loss: 0.0297 - val_mse: 0.0593\n",
      "Epoch 24/200\n",
      "110/110 [==============================] - ETA: 0s - loss: 2.3521e-04 - mse: 4.7042e-04\n",
      "Epoch 24: val_loss did not improve from 0.02967\n",
      "110/110 [==============================] - 2s 22ms/step - loss: 2.3521e-04 - mse: 4.7042e-04 - val_loss: 0.0309 - val_mse: 0.0618\n",
      "Epoch 25/200\n",
      "108/110 [============================>.] - ETA: 0s - loss: 2.3725e-04 - mse: 4.7451e-04\n",
      "Epoch 25: val_loss did not improve from 0.02967\n",
      "110/110 [==============================] - 2s 22ms/step - loss: 2.3444e-04 - mse: 4.6887e-04 - val_loss: 0.0316 - val_mse: 0.0631\n",
      "Epoch 26/200\n",
      "110/110 [==============================] - ETA: 0s - loss: 2.3209e-04 - mse: 4.6419e-04\n",
      "Epoch 26: val_loss did not improve from 0.02967\n",
      "110/110 [==============================] - 3s 23ms/step - loss: 2.3209e-04 - mse: 4.6419e-04 - val_loss: 0.0307 - val_mse: 0.0613\n",
      "Epoch 27/200\n",
      "109/110 [============================>.] - ETA: 0s - loss: 2.3018e-04 - mse: 4.6036e-04\n",
      "Epoch 27: val_loss did not improve from 0.02967\n",
      "110/110 [==============================] - 2s 23ms/step - loss: 2.2982e-04 - mse: 4.5964e-04 - val_loss: 0.0330 - val_mse: 0.0659\n",
      "Epoch 28/200\n",
      "109/110 [============================>.] - ETA: 0s - loss: 2.3201e-04 - mse: 4.6402e-04\n",
      "Epoch 28: val_loss did not improve from 0.02967\n",
      "110/110 [==============================] - 2s 22ms/step - loss: 2.3104e-04 - mse: 4.6209e-04 - val_loss: 0.0301 - val_mse: 0.0603\n",
      "Epoch 29/200\n",
      "108/110 [============================>.] - ETA: 0s - loss: 2.2667e-04 - mse: 4.5335e-04\n",
      "Epoch 29: val_loss did not improve from 0.02967\n",
      "110/110 [==============================] - 2s 22ms/step - loss: 2.2634e-04 - mse: 4.5268e-04 - val_loss: 0.0299 - val_mse: 0.0598\n",
      "Epoch 30/200\n",
      "110/110 [==============================] - ETA: 0s - loss: 2.2528e-04 - mse: 4.5055e-04\n",
      "Epoch 30: val_loss improved from 0.02967 to 0.02921, saving model to tmp\\ckeckpointer.ckpt\n",
      "110/110 [==============================] - 2s 22ms/step - loss: 2.2528e-04 - mse: 4.5055e-04 - val_loss: 0.0292 - val_mse: 0.0584\n",
      "Epoch 31/200\n",
      "108/110 [============================>.] - ETA: 0s - loss: 2.2752e-04 - mse: 4.5504e-04\n",
      "Epoch 31: val_loss did not improve from 0.02921\n",
      "110/110 [==============================] - 3s 23ms/step - loss: 2.2506e-04 - mse: 4.5012e-04 - val_loss: 0.0295 - val_mse: 0.0590\n",
      "Epoch 32/200\n",
      "110/110 [==============================] - ETA: 0s - loss: 2.2454e-04 - mse: 4.4909e-04\n",
      "Epoch 32: val_loss improved from 0.02921 to 0.02826, saving model to tmp\\ckeckpointer.ckpt\n",
      "110/110 [==============================] - 3s 24ms/step - loss: 2.2454e-04 - mse: 4.4909e-04 - val_loss: 0.0283 - val_mse: 0.0565\n",
      "Epoch 33/200\n",
      "110/110 [==============================] - ETA: 0s - loss: 2.2247e-04 - mse: 4.4494e-04\n",
      "Epoch 33: val_loss did not improve from 0.02826\n",
      "110/110 [==============================] - 3s 23ms/step - loss: 2.2247e-04 - mse: 4.4494e-04 - val_loss: 0.0310 - val_mse: 0.0619\n",
      "Epoch 34/200\n",
      "108/110 [============================>.] - ETA: 0s - loss: 2.2228e-04 - mse: 4.4456e-04\n",
      "Epoch 34: val_loss did not improve from 0.02826\n",
      "110/110 [==============================] - 3s 23ms/step - loss: 2.2085e-04 - mse: 4.4169e-04 - val_loss: 0.0289 - val_mse: 0.0578\n",
      "Epoch 35/200\n",
      "110/110 [==============================] - ETA: 0s - loss: 2.1497e-04 - mse: 4.2994e-04\n",
      "Epoch 35: val_loss did not improve from 0.02826\n",
      "110/110 [==============================] - 3s 23ms/step - loss: 2.1497e-04 - mse: 4.2994e-04 - val_loss: 0.0334 - val_mse: 0.0668\n",
      "Epoch 36/200\n",
      "108/110 [============================>.] - ETA: 0s - loss: 2.1799e-04 - mse: 4.3597e-04\n",
      "Epoch 36: val_loss did not improve from 0.02826\n",
      "110/110 [==============================] - 3s 23ms/step - loss: 2.1554e-04 - mse: 4.3107e-04 - val_loss: 0.0350 - val_mse: 0.0699\n",
      "Epoch 37/200\n",
      "110/110 [==============================] - ETA: 0s - loss: 2.1342e-04 - mse: 4.2684e-04\n",
      "Epoch 37: val_loss did not improve from 0.02826\n",
      "110/110 [==============================] - 2s 22ms/step - loss: 2.1342e-04 - mse: 4.2684e-04 - val_loss: 0.0324 - val_mse: 0.0649\n",
      "Epoch 38/200\n",
      "108/110 [============================>.] - ETA: 0s - loss: 2.0071e-04 - mse: 4.0142e-04\n",
      "Epoch 38: val_loss did not improve from 0.02826\n",
      "110/110 [==============================] - 2s 22ms/step - loss: 2.1228e-04 - mse: 4.2456e-04 - val_loss: 0.0319 - val_mse: 0.0637\n",
      "Epoch 39/200\n",
      "110/110 [==============================] - ETA: 0s - loss: 2.1160e-04 - mse: 4.2320e-04\n",
      "Epoch 39: val_loss did not improve from 0.02826\n",
      "110/110 [==============================] - 2s 22ms/step - loss: 2.1160e-04 - mse: 4.2320e-04 - val_loss: 0.0327 - val_mse: 0.0654\n",
      "Epoch 40/200\n",
      "110/110 [==============================] - ETA: 0s - loss: 2.0648e-04 - mse: 4.1295e-04\n",
      "Epoch 40: val_loss did not improve from 0.02826\n",
      "110/110 [==============================] - 2s 22ms/step - loss: 2.0648e-04 - mse: 4.1295e-04 - val_loss: 0.0326 - val_mse: 0.0653\n",
      "Epoch 41/200\n",
      "109/110 [============================>.] - ETA: 0s - loss: 2.0634e-04 - mse: 4.1268e-04\n",
      "Epoch 41: val_loss did not improve from 0.02826\n",
      "110/110 [==============================] - 2s 23ms/step - loss: 2.0665e-04 - mse: 4.1331e-04 - val_loss: 0.0352 - val_mse: 0.0703\n",
      "Epoch 42/200\n",
      "108/110 [============================>.] - ETA: 0s - loss: 2.0710e-04 - mse: 4.1419e-04\n",
      "Epoch 42: val_loss did not improve from 0.02826\n",
      "110/110 [==============================] - 2s 22ms/step - loss: 2.0494e-04 - mse: 4.0988e-04 - val_loss: 0.0339 - val_mse: 0.0678\n"
     ]
    }
   ],
   "source": [
    "hist=model.fit(x_train,y_train,epochs=200,batch_size=16,validation_data=(x_test,y_test),callbacks=[checkpoint, earlystopping], verbose=1)"
   ]
  },
  {
   "cell_type": "markdown",
   "id": "1c1d32bd-b076-4d32-a7ea-855faa482a78",
   "metadata": {},
   "source": [
    "## 모델 평가"
   ]
  },
  {
   "cell_type": "code",
   "execution_count": 112,
   "id": "797c0008-d010-4acc-ad04-f444154dcf29",
   "metadata": {},
   "outputs": [
    {
     "name": "stdout",
     "output_type": "stream",
     "text": [
      "24/24 [==============================] - 0s 7ms/step - loss: 0.0339 - mse: 0.0678   \n"
     ]
    }
   ],
   "source": [
    "ev=model.evaluate(x_test, y_test, verbose=1)"
   ]
  },
  {
   "cell_type": "code",
   "execution_count": 113,
   "id": "d57d358e-d737-41c0-afd3-3b79cc76414d",
   "metadata": {},
   "outputs": [
    {
     "name": "stdout",
     "output_type": "stream",
     "text": [
      "손실 함수: 0.03391161933541298 MSE 0.06782323867082596\n"
     ]
    }
   ],
   "source": [
    "print(\"손실 함수:\", ev[0], \"MSE\", ev[1])"
   ]
  },
  {
   "cell_type": "code",
   "execution_count": 123,
   "id": "791e8a8f-41e3-44ec-97f5-865a54557b2a",
   "metadata": {},
   "outputs": [
    {
     "data": {
      "image/png": "[encoded data removed]",
      "text/plain": [
       "<Figure size 432x288 with 1 Axes>"
      ]
     },
     "metadata": {
      "needs_background": "light"
     },
     "output_type": "display_data"
    }
   ],
   "source": [
    "plt.plot(hist.history['mse'])\n",
    "plt.plot(hist.history['val_mse'])\n",
    "plt.title('Model mse')\n",
    "plt.ylabel('mse')\n",
    "plt.xlabel('Epoch')\n",
    "plt.ylim([0,0.1])\n",
    "plt.legend(['Train','Validation'], loc='best')\n",
    "plt.grid()\n",
    "plt.show()"
   ]
  },
  {
   "cell_type": "code",
   "execution_count": 124,
   "id": "b8add2dd-c2b4-4748-a3be-436407a9512c",
   "metadata": {},
   "outputs": [],
   "source": [
    "pred = model.predict(x_test)"
   ]
  },
  {
   "cell_type": "code",
   "execution_count": 125,
   "id": "6dd60c35-9ecc-475c-9e1c-86e0b09710ef",
   "metadata": {},
   "outputs": [
    {
     "data": {
      "text/plain": [
       "(752, 5)"
      ]
     },
     "execution_count": 125,
     "metadata": {},
     "output_type": "execute_result"
    }
   ],
   "source": [
    "pred.shape"
   ]
  },
  {
   "cell_type": "code",
   "execution_count": 126,
   "id": "cb00ffd1-5d97-482c-8084-9de96e7124e4",
   "metadata": {},
   "outputs": [
    {
     "data": {
      "image/png": "[encoded data removed]",
      "text/plain": [
       "<Figure size 432x288 with 1 Axes>"
      ]
     },
     "metadata": {
      "needs_background": "light"
     },
     "output_type": "display_data"
    }
   ],
   "source": [
    "#'Open'\n",
    "\n",
    "x_range=range(len(y_test))\n",
    "plt.plot(x_range,y_test[x_range][:,0], color='red')\n",
    "plt.plot(x_range,pred[x_range][:,0], color='blue')\n",
    "plt.legend(['True prices','Predicted prices'], loc='best')\n",
    "plt.grid()\n",
    "plt.show()"
   ]
  },
  {
   "cell_type": "code",
   "execution_count": 127,
   "id": "35b1b289-6dc5-4cfd-b620-1fedfbf2a8c9",
   "metadata": {},
   "outputs": [
    {
     "data": {
      "image/png": "[encoded data removed]",
      "text/plain": [
       "<Figure size 432x288 with 1 Axes>"
      ]
     },
     "metadata": {
      "needs_background": "light"
     },
     "output_type": "display_data"
    }
   ],
   "source": [
    "#'High\n",
    "\n",
    "x_range=range(len(y_test))\n",
    "plt.plot(x_range,y_test[x_range][:,1], color='red')\n",
    "plt.plot(x_range,pred[x_range][:,1], color='blue')\n",
    "plt.legend(['True prices','Predicted prices'], loc='best')\n",
    "plt.grid()\n",
    "plt.show()"
   ]
  },
  {
   "cell_type": "code",
   "execution_count": 128,
   "id": "0ff4bfc1-747a-47d7-898d-e9d7cd483bc1",
   "metadata": {},
   "outputs": [
    {
     "data": {
      "image/png": "[encoded data removed]",
      "text/plain": [
       "<Figure size 432x288 with 1 Axes>"
      ]
     },
     "metadata": {
      "needs_background": "light"
     },
     "output_type": "display_data"
    }
   ],
   "source": [
    "#'Low'\n",
    "\n",
    "x_range=range(len(y_test))\n",
    "plt.plot(x_range,y_test[x_range][:,2], color='red')\n",
    "plt.plot(x_range,pred[x_range][:,2], color='blue')\n",
    "plt.legend(['True prices','Predicted prices'], loc='best')\n",
    "plt.grid()\n",
    "plt.show()"
   ]
  },
  {
   "cell_type": "code",
   "execution_count": 129,
   "id": "bc80e4ca-314a-4329-aefb-c73f706066f7",
   "metadata": {},
   "outputs": [
    {
     "data": {
      "image/png": "[encoded data removed]",
      "text/plain": [
       "<Figure size 432x288 with 1 Axes>"
      ]
     },
     "metadata": {
      "needs_background": "light"
     },
     "output_type": "display_data"
    }
   ],
   "source": [
    "#'Close'\n",
    "\n",
    "x_range=range(len(y_test))\n",
    "plt.plot(x_range,y_test[x_range][:,3], color='red')\n",
    "plt.plot(x_range,pred[x_range][:,3], color='blue')\n",
    "plt.legend(['True prices','Predicted prices'], loc='best')\n",
    "plt.grid()\n",
    "plt.show()"
   ]
  },
  {
   "cell_type": "code",
   "execution_count": 130,
   "id": "a5b5431b-0358-4351-a590-f8534a200630",
   "metadata": {},
   "outputs": [
    {
     "data": {
      "image/png": "[encoded data removed]",
      "text/plain": [
       "<Figure size 432x288 with 1 Axes>"
      ]
     },
     "metadata": {
      "needs_background": "light"
     },
     "output_type": "display_data"
    }
   ],
   "source": [
    "#'Volume'\n",
    "\n",
    "x_range=range(len(y_test))\n",
    "plt.plot(x_range,y_test[x_range][:,4], color='red')\n",
    "plt.plot(x_range,pred[x_range][:,4], color='blue')\n",
    "plt.legend(['True prices','Predicted prices'], loc='best')\n",
    "plt.grid()\n",
    "plt.show()"
   ]
  },
  {
   "cell_type": "code",
   "execution_count": 131,
   "id": "2436a437-75f9-408d-aa5e-8557006c5ba4",
   "metadata": {
    "tags": []
   },
   "outputs": [
    {
     "name": "stdout",
     "output_type": "stream",
     "text": [
      "Model: \"sequential_7\"\n",
      "_________________________________________________________________\n",
      " Layer (type)                Output Shape              Param #   \n",
      "=================================================================\n",
      " lstm_7 (LSTM)               (None, 16)                1408      \n",
      "                                                                 \n",
      " dense_8 (Dense)             (None, 16)                272       \n",
      "                                                                 \n",
      " dense_9 (Dense)             (None, 5)                 85        \n",
      "                                                                 \n",
      "=================================================================\n",
      "Total params: 1,765\n",
      "Trainable params: 1,765\n",
      "Non-trainable params: 0\n",
      "_________________________________________________________________\n"
     ]
    }
   ],
   "source": [
    "model.summary()"
   ]
  },
  {
   "cell_type": "markdown",
   "id": "db988089-b781-412b-9780-2d2cddfa2c93",
   "metadata": {
    "jp-MarkdownHeadingCollapsed": true,
    "tags": []
   },
   "source": [
    "# 3. 다중 채널 비트코인 가격 예측 (many to one)"
   ]
  },
  {
   "cell_type": "markdown",
   "id": "ad307c31-e339-41e5-bc4c-1586f94188b0",
   "metadata": {
    "tags": []
   },
   "source": [
    "## 데이터 전처리"
   ]
  },
  {
   "cell_type": "code",
   "execution_count": 97,
   "id": "0d31f032-b417-4e25-bd7a-bbf3c278850c",
   "metadata": {},
   "outputs": [],
   "source": [
    "data.columns = ['Open','High','Low','Close','Volume']"
   ]
  },
  {
   "cell_type": "code",
   "execution_count": 98,
   "id": "bba0ff6d-435e-4bba-aa89-00711c0ffd1a",
   "metadata": {},
   "outputs": [
    {
     "data": {
      "text/plain": [
       "array([[3.18199066e-03, 2.52605283e-03, 3.32614195e-03, 3.18589848e-03,\n",
       "        3.55568085e-03],\n",
       "       [3.18421666e-03, 2.45903451e-03, 3.34233013e-03, 3.13574788e-03,\n",
       "        1.48326158e-03],\n",
       "       [3.18169386e-03, 2.46368654e-03, 3.33794268e-03, 3.21067703e-03,\n",
       "        3.26371389e-03],\n",
       "       ...,\n",
       "       [5.38474529e-01, 5.32267068e-01, 5.12085159e-01, 5.18259121e-01,\n",
       "        5.83995879e-06],\n",
       "       [5.18253856e-01, 5.28610717e-01, 5.21534670e-01, 5.36101310e-01,\n",
       "        3.28059996e-06],\n",
       "       [5.35726757e-01, 5.24284183e-01, 5.41094382e-01, 5.30519756e-01,\n",
       "        4.88827305e-08]])"
      ]
     },
     "execution_count": 98,
     "metadata": {},
     "output_type": "execute_result"
    }
   ],
   "source": [
    "# MinMax 스케일링\n",
    "\n",
    "\n",
    "scaler = MinMaxScaler()\n",
    "# 스케일을 적용할 column을 정의합니다.\n",
    "scale_cols = ['Open', 'High', 'Low', 'Close', 'Volume']\n",
    "# 스케일 후 columns\n",
    "scaled = scaler.fit_transform(data[scale_cols])\n",
    "scaled"
   ]
  },
  {
   "cell_type": "code",
   "execution_count": 99,
   "id": "f420f60b-b4ac-48bd-ad21-1e4862d7a537",
   "metadata": {},
   "outputs": [],
   "source": [
    "# 전처리 완료된 최종 데이터 프레임 df 생성\n",
    "\n",
    "df = pd.DataFrame(scaled, columns=scale_cols)"
   ]
  },
  {
   "cell_type": "code",
   "execution_count": 100,
   "id": "66d7e2e0-2575-4612-b546-8c8f7d2f31d9",
   "metadata": {},
   "outputs": [],
   "source": [
    "# data를 numpy형태로 전환\n",
    "\n",
    "seq=df.to_numpy()"
   ]
  },
  {
   "cell_type": "markdown",
   "id": "3312a748-b30e-4261-a628-6728bf6a7f19",
   "metadata": {
    "tags": []
   },
   "source": [
    "## 윈도우 크기와 수평선 크기"
   ]
  },
  {
   "attachments": {
    "b2637f79-7dbf-4629-837f-2db4e2f95367.png": {
     "image/png": "[encoded data removed]"
    }
   },
   "cell_type": "markdown",
   "id": "9bd93ba6-73f2-4d3b-b3d3-417fcd3c660d",
   "metadata": {},
   "source": [
    "![image.png](attachment:b2637f79-7dbf-4629-837f-2db4e2f95367.png)"
   ]
  },
  {
   "cell_type": "code",
   "execution_count": 101,
   "id": "5e97f280-f406-4bb8-9f4e-ddbc2ddf582c",
   "metadata": {},
   "outputs": [],
   "source": [
    "def seq2dataset(seq,window,horizon):\n",
    "    X=[]; Y=[]\n",
    "    for i in range(len(seq)-(window+horizon)+1):\n",
    "        x=seq[i:(i+window)]\n",
    "        y=(seq[i+window+horizon-1])   # Close(종가)만 y값으로 할당\n",
    "        X.append(x); Y.append(y)\n",
    "    return np.array(X), np.array(Y)"
   ]
  },
  {
   "cell_type": "code",
   "execution_count": 102,
   "id": "202990df-4d87-4cdb-8342-73e62967e5dc",
   "metadata": {},
   "outputs": [],
   "source": [
    "# 윈도우 w와 수평선 h\n",
    "\n",
    "w = 3   # 윈도우는 이전 요소 몇 개를 볼 것인지\n",
    "h = 1    # 수평선은 얼마나 먼 미래를 예측할 것인지"
   ]
  },
  {
   "cell_type": "code",
   "execution_count": 103,
   "id": "f2e24a80-65e8-4830-96c5-dde0556185b4",
   "metadata": {},
   "outputs": [],
   "source": [
    "X, Y = seq2dataset(seq, w, h)"
   ]
  },
  {
   "cell_type": "code",
   "execution_count": 104,
   "id": "9cb7643b-025f-4247-88c0-b02c7e34de1e",
   "metadata": {},
   "outputs": [
    {
     "name": "stdout",
     "output_type": "stream",
     "text": [
      "(2611, 3, 5) (2611, 5)\n"
     ]
    }
   ],
   "source": [
    "print(X.shape, Y.shape)"
   ]
  },
  {
   "cell_type": "code",
   "execution_count": 35,
   "id": "d5119f59-c4ef-409c-9ce8-d9b5860b6d34",
   "metadata": {
    "tags": []
   },
   "outputs": [
    {
     "name": "stdout",
     "output_type": "stream",
     "text": [
      "[[0.00318199 0.00252605 0.00332614 0.0031859  0.00355568]\n",
      " [0.00318422 0.00245903 0.00334233 0.00313575 0.00148326]\n",
      " [0.00318169 0.00246369 0.00333794 0.00321068 0.00326371]] 0.0032234372449812306\n"
     ]
    }
   ],
   "source": [
    "print(X[0], Y[0])"
   ]
  },
  {
   "cell_type": "markdown",
   "id": "a2f29e9d-52ab-43ba-977a-ea312619a674",
   "metadata": {},
   "source": [
    "## 데이터셋 split"
   ]
  },
  {
   "cell_type": "code",
   "execution_count": 36,
   "id": "63b2096d-3d26-44c4-a935-62e21f04fd0e",
   "metadata": {},
   "outputs": [],
   "source": [
    "split=int(len(X)*0.7)"
   ]
  },
  {
   "cell_type": "code",
   "execution_count": 132,
   "id": "5d2cb674-7d1d-4e49-8aac-9e48d0f9fe47",
   "metadata": {},
   "outputs": [],
   "source": [
    "x_train=X[0:split]\n",
    "y_train=Y[0:split]\n",
    "x_test=X[split:]\n",
    "y_test=Y[split:]"
   ]
  },
  {
   "cell_type": "markdown",
   "id": "a038b725-d0fa-40d0-9e2e-6ad1d00bcb46",
   "metadata": {},
   "source": [
    "## Modeling"
   ]
  },
  {
   "cell_type": "code",
   "execution_count": 133,
   "id": "bcc387d7-4ddb-46b5-809c-702148827d55",
   "metadata": {},
   "outputs": [],
   "source": [
    "model = Sequential()\n",
    "model.add(LSTM(units=16,activation='tanh',input_shape=x_train[0].shape))\n",
    "model.add(Dense(16, activation=\"relu\"))\n",
    "model.add(Dense(1))"
   ]
  },
  {
   "cell_type": "code",
   "execution_count": 134,
   "id": "4e1e613e-b807-4440-accb-2c57b8d5952b",
   "metadata": {},
   "outputs": [],
   "source": [
    "# Sequence 학습에 비교적 좋은 퍼포먼스를 내는 Huber()를 사용합니다.\n",
    "loss = Huber()\n",
    "optimizer = Adam(0.0005)\n",
    "model.compile(loss=Huber(), optimizer=optimizer, metrics=['mse'])"
   ]
  },
  {
   "cell_type": "code",
   "execution_count": 135,
   "id": "0b6960dd-2aa9-4cd9-8b88-f5d0f2d8bd5d",
   "metadata": {},
   "outputs": [],
   "source": [
    "# earlystopping은 10번 epoch통안 val_loss 개선이 없다면 학습을 멈춥니다.\n",
    "earlystopping = EarlyStopping(monitor='val_loss', patience=10)\n",
    "# val_loss 기준 체크포인터도 생성합니다.\n",
    "filename = os.path.join('tmp', 'ckeckpointer.ckpt')\n",
    "checkpoint = ModelCheckpoint(filename, \n",
    "                             save_weights_only=True, \n",
    "                             save_best_only=True, \n",
    "                             monitor='val_loss', \n",
    "                             verbose=1)"
   ]
  },
  {
   "cell_type": "code",
   "execution_count": 138,
   "id": "80f05e35-bbc5-42f4-90b3-6cbab65a70f9",
   "metadata": {},
   "outputs": [
    {
     "name": "stdout",
     "output_type": "stream",
     "text": [
      "Epoch 1/200\n",
      "102/115 [=========================>....] - ETA: 0s - loss: 1.4024e-05 - mse: 2.8048e-05\n",
      "Epoch 1: val_loss did not improve from 0.00761\n",
      "115/115 [==============================] - 1s 6ms/step - loss: 1.5471e-05 - mse: 3.0943e-05 - val_loss: 0.0095 - val_mse: 0.0191\n",
      "Epoch 2/200\n",
      "103/115 [=========================>....] - ETA: 0s - loss: 1.7151e-05 - mse: 3.4302e-05\n",
      "Epoch 2: val_loss did not improve from 0.00761\n",
      "115/115 [==============================] - 0s 3ms/step - loss: 1.6565e-05 - mse: 3.3130e-05 - val_loss: 0.0091 - val_mse: 0.0181\n",
      "Epoch 3/200\n",
      "103/115 [=========================>....] - ETA: 0s - loss: 1.6194e-05 - mse: 3.2387e-05\n",
      "Epoch 3: val_loss did not improve from 0.00761\n",
      "115/115 [==============================] - 0s 3ms/step - loss: 1.6013e-05 - mse: 3.2025e-05 - val_loss: 0.0091 - val_mse: 0.0182\n",
      "Epoch 4/200\n",
      "104/115 [==========================>...] - ETA: 0s - loss: 1.5659e-05 - mse: 3.1317e-05\n",
      "Epoch 4: val_loss did not improve from 0.00761\n",
      "115/115 [==============================] - 0s 3ms/step - loss: 1.5067e-05 - mse: 3.0134e-05 - val_loss: 0.0095 - val_mse: 0.0190\n",
      "Epoch 5/200\n",
      " 95/115 [=======================>......] - ETA: 0s - loss: 1.6673e-05 - mse: 3.3346e-05\n",
      "Epoch 5: val_loss did not improve from 0.00761\n",
      "115/115 [==============================] - 0s 3ms/step - loss: 1.6233e-05 - mse: 3.2466e-05 - val_loss: 0.0104 - val_mse: 0.0209\n",
      "Epoch 6/200\n",
      " 91/115 [======================>.......] - ETA: 0s - loss: 1.5046e-05 - mse: 3.0093e-05\n",
      "Epoch 6: val_loss did not improve from 0.00761\n",
      "115/115 [==============================] - 0s 3ms/step - loss: 1.5429e-05 - mse: 3.0859e-05 - val_loss: 0.0106 - val_mse: 0.0213\n",
      "Epoch 7/200\n",
      " 96/115 [========================>.....] - ETA: 0s - loss: 1.6876e-05 - mse: 3.3751e-05\n",
      "Epoch 7: val_loss did not improve from 0.00761\n",
      "115/115 [==============================] - 0s 3ms/step - loss: 1.6019e-05 - mse: 3.2038e-05 - val_loss: 0.0104 - val_mse: 0.0209\n",
      "Epoch 8/200\n",
      "107/115 [==========================>...] - ETA: 0s - loss: 1.4178e-05 - mse: 2.8356e-05\n",
      "Epoch 8: val_loss did not improve from 0.00761\n",
      "115/115 [==============================] - 0s 3ms/step - loss: 1.5091e-05 - mse: 3.0182e-05 - val_loss: 0.0102 - val_mse: 0.0203\n",
      "Epoch 9/200\n",
      "107/115 [==========================>...] - ETA: 0s - loss: 1.4496e-05 - mse: 2.8993e-05\n",
      "Epoch 9: val_loss did not improve from 0.00761\n",
      "115/115 [==============================] - 0s 3ms/step - loss: 1.4827e-05 - mse: 2.9654e-05 - val_loss: 0.0124 - val_mse: 0.0247\n",
      "Epoch 10/200\n",
      " 96/115 [========================>.....] - ETA: 0s - loss: 1.8261e-05 - mse: 3.6522e-05\n",
      "Epoch 10: val_loss did not improve from 0.00761\n",
      "115/115 [==============================] - 0s 3ms/step - loss: 1.7368e-05 - mse: 3.4735e-05 - val_loss: 0.0105 - val_mse: 0.0209\n",
      "Epoch 11/200\n",
      "102/115 [=========================>....] - ETA: 0s - loss: 1.3792e-05 - mse: 2.7584e-05\n",
      "Epoch 11: val_loss did not improve from 0.00761\n",
      "115/115 [==============================] - 0s 3ms/step - loss: 1.4882e-05 - mse: 2.9765e-05 - val_loss: 0.0111 - val_mse: 0.0221\n",
      "Epoch 12/200\n",
      "105/115 [==========================>...] - ETA: 0s - loss: 1.4841e-05 - mse: 2.9682e-05\n",
      "Epoch 12: val_loss did not improve from 0.00761\n",
      "115/115 [==============================] - 0s 3ms/step - loss: 1.4590e-05 - mse: 2.9181e-05 - val_loss: 0.0112 - val_mse: 0.0224\n"
     ]
    }
   ],
   "source": [
    "hist=model.fit(x_train,y_train[:,3],epochs=200,batch_size=16,validation_data=(x_test,y_test[:,3]),callbacks=[checkpoint, earlystopping], verbose=1)   \n",
    "# y_train과 y_test에서 [:,3]로 인덱싱하는 이유는, 종가만을 y_val로 추출하기 위해서임\n",
    "# x_train 데이터셋 구성 자체가, 한 단위씩(ex 1일, 1시간, 1분) 밀리면서 구성된 데이터셋으로, for문을 돌려가며 예측할 필요 없음"
   ]
  },
  {
   "cell_type": "markdown",
   "id": "bd5fa41b-31ee-48c8-9323-44cc4117a3f3",
   "metadata": {
    "tags": []
   },
   "source": [
    "# 4. 수익률 확인\n",
    "### 여기서 확인한 수익률은 3. 다중 채널 비트코인(many to one)에 해당하는 내용입니다."
   ]
  },
  {
   "cell_type": "code",
   "execution_count": 57,
   "id": "a832310f-35eb-4006-8142-d3a035474fdb",
   "metadata": {},
   "outputs": [
    {
     "name": "stdout",
     "output_type": "stream",
     "text": [
      "\n",
      "Statsmodels' ConvergenceWarning is ignored\n"
     ]
    }
   ],
   "source": [
    "warnings.simplefilter('ignore', ConvergenceWarning)\n",
    "print(\"\\nStatsmodels' ConvergenceWarning is ignored\")"
   ]
  },
  {
   "cell_type": "code",
   "execution_count": 77,
   "id": "0cbec1e8-05de-44cf-913d-dc8786eb3ae5",
   "metadata": {},
   "outputs": [],
   "source": [
    "def analysis_return(test_df):\n",
    "    # ror: 일일 수익률\n",
    "    # trading_rate: 거래 확률\n",
    "    # success_rate: 거래 성공 확률\n",
    "    # pnl_rate: 손익비\n",
    "    # mdd: 최대 손실 낙폭\n",
    "    # cr: 누적 수익률\n",
    "\n",
    "    df = test_df.copy()\n",
    "    df['success'] = np.where((df['ror'] > 1) & (df['trade'] == 1), 1, 0)\n",
    "    df['fail'] = np.where((df['ror'] < 1) & (df['trade'] == 1), 1, 0)\n",
    "    df['success_ror'] = np.where(df['success'], (df['ror'] - 1) * 100, 0)\n",
    "    df['fail_ror'] = np.where(df['fail'], (1 - df['ror']) * 100, 0)\n",
    "\n",
    "    trade_rate = df['trade'].sum() / len(df)\n",
    "    success_rate = df['success'].sum() / df['trade'].sum()\n",
    "    pnl_rate = df['success_ror'].sum() / df['fail_ror'].sum()\n",
    "    mdd = df['mdd'].max()\n",
    "    cr = df['cr'].iloc[-1]\n",
    "\n",
    "    return_dict = {}\n",
    "    return_dict['trade_rate'] = f'{trade_rate * 100: .2f}%'\n",
    "    return_dict['success_rate'] = f'{success_rate * 100: .2f}%'\n",
    "    return_dict['pnl_rate'] = f'{pnl_rate: .2f}'\n",
    "    return_dict['mdd'] = f'{mdd: .2f}%'\n",
    "    return_dict['cr'] = f'{(cr - 1) * 100: .2f}%'\n",
    "\n",
    "    return return_dict\n",
    "\n",
    "def backtest_ma(test_df):\n",
    "    df = test_df.copy()\n",
    "    df['ma5'] = df['Open'].rolling(window=5).mean()\n",
    "    df['ma10'] = df['Open'].rolling(window=10).mean()\n",
    "    df['ma20'] = df['Open'].rolling(window=20).mean()\n",
    "    df['ma50'] = df['Open'].rolling(window=50).mean()\n",
    "    df['ma100'] = df['Open'].rolling(window=100).mean()\n",
    "\n",
    "    df['rate'] = 0\n",
    "    df['rate'] = np.where(df['ma5'] < df['Open'], df['rate'] + 1, df['rate'])\n",
    "    df['rate'] = np.where(df['ma10'] < df['Open'], df['rate'] + 1, df['rate'])\n",
    "    df['rate'] = np.where(df['ma20'] < df['Open'], df['rate'] + 1, df['rate'])\n",
    "    df['rate'] = np.where(df['ma50'] < df['Open'], df['rate'] + 1, df['rate'])\n",
    "    df['rate'] = np.where(df['ma100'] < df['Open'], df['rate'] + 1, df['rate'])\n",
    "    df['rate'] = df['rate'] / 5\n",
    "\n",
    "    df['trade'] = np.where((df['Open'] < df['prediction_close']) & (df['rate'] > 0), 1, 0)\n",
    "    df['ror'] = np.where(df['trade'] == 1, 1 + (df['Close'] / df['Open'] - 1) * df['rate'], 1)\n",
    "    df['cr'] = df['ror'].cumprod()\n",
    "    df['mdd'] = (df['cr'].cummax() - df['cr']) / df['cr'].cummax() * 100\n",
    "    return df\n",
    "\n",
    "\n",
    "def backtest_noise(test_df):\n",
    "    noise_ma = 30\n",
    "    df = test_df.copy()\n",
    "    df['noise'] = 1 - abs(df['Open'] - df['Close']) / ((df['High']) * (1.0000001) - df['Low'])\n",
    "    df['noise'] = df['noise'].shift(1)\n",
    "    df['noise_ma'] = df['noise'].rolling(window=noise_ma).mean()\n",
    "\n",
    "    df['rate'] = 0\n",
    "    df['rate'] = np.where(df['noise_ma'] < 0.3, df['rate'] + 1, df['rate'])\n",
    "    df['rate'] = np.where(df['noise_ma'] < 0.4, df['rate'] + 1, df['rate'])\n",
    "    df['rate'] = np.where(df['noise_ma'] < 0.5, df['rate'] + 1, df['rate'])\n",
    "    df['rate'] = np.where(df['noise_ma'] < 0.6, df['rate'] + 1, df['rate'])\n",
    "    df['rate'] = np.where(df['noise_ma'] < 0.7, df['rate'] + 1, df['rate'])\n",
    "    df['rate'] = df['rate'] / 5\n",
    "\n",
    "    df['trade'] = np.where((df['Open'] < df['prediction_close']) & (df['rate'] > 0), 1, 0)\n",
    "    df['ror'] = np.where(df['trade'] == 1, 1 + (df['Close'] / df['Open'] - 1) * df['rate'], 1)\n",
    "    df['cr'] = df['ror'].cumprod()\n",
    "    df['mdd'] = (df['cr'].cummax() - df['cr']) / df['cr'].cummax() * 100\n",
    "    return df\n",
    "\n",
    "\n",
    "def backtest_rsi(test_df):\n",
    "    df = test_df.copy()\n",
    "    df['up'] = np.where(df['Close'].diff(1) > 0, df['Close'].diff(1), 0)\n",
    "    df['down'] = np.where(df['Close'].diff(1) < 0, df['Close'].diff(1) * (-1), 0)\n",
    "    df['au'] = df['up'].rolling(window=14, min_periods=14).mean()\n",
    "    df['ad'] = df['down'].rolling(window=14, min_periods=14).mean()\n",
    "    df['rsi'] = df['au'].div(df['ad'] + df['au']) * 100\n",
    "    df['rsi_shift_1'] = df['rsi'].shift(1) # 하루 전의 rsi\n",
    "    df['trade'] = np.where((df['Open'] < df['prediction_close']) & (df['rsi_shift_1'] > 40), 1, 0)\n",
    "    df['ror'] = np.where(df['trade'] == 1, 1 + (df['Close'] / df['Open'] - 1) * df['rate'], 1)\n",
    "    df['cr'] = df['ror'].cumprod()\n",
    "    df['mdd'] = (df['cr'].cummax() - df['cr']) / df['cr'].cummax() * 100\n",
    "    return df\n",
    "\n",
    "\n",
    "def backtest_ma_and_noise(test_df):\n",
    "    noise_ma = 30\n",
    "    df = test_df.copy()\n",
    "    df['noise'] = 1 - abs(df['Open'] - df['Close']) / ((df['High']) * (1.0000001) - df['Low'])\n",
    "    df['noise'] = df['noise'].shift(1)\n",
    "    df['noise_ma'] = df['noise'].rolling(window=noise_ma).mean()\n",
    "\n",
    "    df['ma5'] = df['Open'].rolling(window=5).mean()\n",
    "    df['ma10'] = df['Open'].rolling(window=10).mean()\n",
    "    df['ma20'] = df['Open'].rolling(window=20).mean()\n",
    "    df['ma50'] = df['Open'].rolling(window=50).mean()\n",
    "    df['ma100'] = df['Open'].rolling(window=100).mean()\n",
    "\n",
    "    df['rate'] = 0\n",
    "    df['rate'] = np.where(df['ma5'] < df['Open'], df['rate'] + 1, df['rate'])\n",
    "    df['rate'] = np.where(df['ma10'] < df['Open'], df['rate'] + 1, df['rate'])\n",
    "    df['rate'] = np.where(df['ma20'] < df['Open'], df['rate'] + 1, df['rate'])\n",
    "    df['rate'] = np.where(df['ma50'] < df['Open'], df['rate'] + 1, df['rate'])\n",
    "    df['rate'] = np.where(df['ma100'] < df['Open'], df['rate'] + 1, df['rate'])\n",
    "    df['rate'] = np.where(df['noise_ma'] < 0.3, df['rate'] + 1, df['rate'])\n",
    "    df['rate'] = np.where(df['noise_ma'] < 0.4, df['rate'] + 1, df['rate'])\n",
    "    df['rate'] = np.where(df['noise_ma'] < 0.5, df['rate'] + 1, df['rate'])\n",
    "    df['rate'] = np.where(df['noise_ma'] < 0.6, df['rate'] + 1, df['rate'])\n",
    "    df['rate'] = np.where(df['noise_ma'] < 0.7, df['rate'] + 1, df['rate'])\n",
    "    df['rate'] = df['rate'] / 10\n",
    "\n",
    "    df['trade'] = np.where((df['Open'] < df['prediction_close']) & (df['rate'] > 0), 1, 0)\n",
    "    df['ror'] = np.where(df['trade'] == 1, 1 + (df['Close'] / df['Open'] - 1) * df['rate'], 1)\n",
    "    df['cr'] = df['ror'].cumprod()\n",
    "    df['mdd'] = (df['cr'].cummax() - df['cr']) / df['cr'].cummax() * 100\n",
    "    return df\n",
    "\n",
    "\n",
    "def backtest_ma_and_rsi(test_df):\n",
    "    df = test_df.copy()\n",
    "    df['up'] = np.where(df['Close'].diff(1) > 0, df['Close'].diff(1), 0)\n",
    "    df['down'] = np.where(df['Close'].diff(1) < 0, df['Close'].diff(1) * (-1), 0)\n",
    "    df['au'] = df['up'].rolling(window=14, min_periods=14).mean()\n",
    "    df['ad'] = df['down'].rolling(window=14, min_periods=14).mean()\n",
    "    df['rsi'] = df['au'].div(df['ad'] + df['au']) * 100\n",
    "    df['rsi_shift_1'] = df['rsi'].shift(1) # 하루 전의 rsi\n",
    "\n",
    "    df['ma5'] = df['Open'].rolling(window=5).mean()\n",
    "    df['ma10'] = df['Open'].rolling(window=10).mean()\n",
    "    df['ma20'] = df['Open'].rolling(window=20).mean()\n",
    "    df['ma50'] = df['Open'].rolling(window=50).mean()\n",
    "    df['ma100'] = df['Open'].rolling(window=100).mean()\n",
    "\n",
    "    df['rate'] = 0\n",
    "    df['rate'] = np.where(df['ma5'] < df['Open'], df['rate'] + 1, df['rate'])\n",
    "    df['rate'] = np.where(df['ma10'] < df['Open'], df['rate'] + 1, df['rate'])\n",
    "    df['rate'] = np.where(df['ma20'] < df['Open'], df['rate'] + 1, df['rate'])\n",
    "    df['rate'] = np.where(df['ma50'] < df['Open'], df['rate'] + 1, df['rate'])\n",
    "    df['rate'] = np.where(df['ma100'] < df['Open'], df['rate'] + 1, df['rate'])\n",
    "    df['rate'] = df['rate'] / 5\n",
    "\n",
    "    df['trade'] = np.where((df['Open'] < df['prediction_close']) & (df['rate'] > 0) & (df['rsi_shift_1'] > 40), 1, 0)  # rsi가 40이상일 경우에만 거래 진행\n",
    "    df['ror'] = np.where(df['trade'] == 1, 1 + (df['Close'] / df['Open'] - 1) * df['rate'], 1)\n",
    "    df['cr'] = df['ror'].cumprod()\n",
    "    df['mdd'] = (df['cr'].cummax() - df['cr']) / df['cr'].cummax() * 100\n",
    "\n",
    "    return df\n",
    "\n",
    "\n",
    "def backtest_noise_and_rsi(test_df):\n",
    "    noise_ma = 30\n",
    "    df = test_df.copy()\n",
    "    df['noise'] = 1 - abs(df['Open'] - df['Close']) / ((df['High']) * (1.0000001) - df['Low'])\n",
    "    df['noise'] = df['noise'].shift(1)\n",
    "    df['noise_ma'] = df['noise'].rolling(window=noise_ma).mean()\n",
    "\n",
    "    df['rate'] = np.where(df['noise_ma'] < 0.3, df['rate'] + 1, df['rate'])\n",
    "    df['rate'] = np.where(df['noise_ma'] < 0.4, df['rate'] + 1, df['rate'])\n",
    "    df['rate'] = np.where(df['noise_ma'] < 0.5, df['rate'] + 1, df['rate'])\n",
    "    df['rate'] = np.where(df['noise_ma'] < 0.6, df['rate'] + 1, df['rate'])\n",
    "    df['rate'] = np.where(df['noise_ma'] < 0.7, df['rate'] + 1, df['rate'])\n",
    "    df['rate'] = df['rate'] / 10\n",
    "\n",
    "    df['trade'] = np.where((df['Open'] < df['prediction_close']) & (df['rate'] > 0) & (df['rsi_shift_1'] > 40), 1, 0)  # rsi가 40이상일 경우에만 거래 진행\n",
    "    df['ror'] = np.where(df['trade'] == 1, 1 + (df['Close'] / df['Open'] - 1) * df['rate'], 1)\n",
    "    df['cr'] = df['ror'].cumprod()\n",
    "    df['mdd'] = (df['cr'].cummax() - df['cr']) / df['cr'].cummax() * 100\n",
    "\n",
    "    return df\n",
    "\n",
    "\n",
    "def backtest_ma_and_rsi_and_noise(test_df):\n",
    "    noise_ma = 30\n",
    "    df = test_df.copy()\n",
    "    df['up'] = np.where(df['Close'].diff(1) > 0, df['Close'].diff(1), 0)\n",
    "    df['down'] = np.where(df['Close'].diff(1) < 0, df['Close'].diff(1) * (-1), 0)\n",
    "    df['au'] = df['up'].rolling(window=14, min_periods=14).mean()\n",
    "    df['ad'] = df['down'].rolling(window=14, min_periods=14).mean()\n",
    "    df['rsi'] = df['au'].div(df['ad'] + df['au']) * 100\n",
    "    df['rsi_shift_1'] = df['rsi'].shift(1) # 하루 전의 rsi\n",
    "\n",
    "    df['noise'] = 1 - abs(df['Open'] - df['Close']) / ((df['High']) * (1.0000001) - df['Low'])\n",
    "    df['noise'] = df['noise'].shift(1)\n",
    "    df['noise_ma'] = df['noise'].rolling(window=noise_ma).mean()\n",
    "    df['ma5'] = df['Open'].rolling(window=5).mean()\n",
    "    df['ma10'] = df['Open'].rolling(window=10).mean()\n",
    "    df['ma20'] = df['Open'].rolling(window=20).mean()\n",
    "    df['ma50'] = df['Open'].rolling(window=50).mean()\n",
    "    df['ma100'] = df['Open'].rolling(window=100).mean()\n",
    "\n",
    "    df['rate'] = 0\n",
    "    df['rate'] = np.where(df['ma5'] < df['Open'], df['rate'] + 1, df['rate'])\n",
    "    df['rate'] = np.where(df['ma10'] < df['Open'], df['rate'] + 1, df['rate'])\n",
    "    df['rate'] = np.where(df['ma20'] < df['Open'], df['rate'] + 1, df['rate'])\n",
    "    df['rate'] = np.where(df['ma50'] < df['Open'], df['rate'] + 1, df['rate'])\n",
    "    df['rate'] = np.where(df['ma100'] < df['Open'], df['rate'] + 1, df['rate'])\n",
    "    df['rate'] = np.where(df['noise_ma'] < 0.3, df['rate'] + 1, df['rate'])\n",
    "    df['rate'] = np.where(df['noise_ma'] < 0.4, df['rate'] + 1, df['rate'])\n",
    "    df['rate'] = np.where(df['noise_ma'] < 0.5, df['rate'] + 1, df['rate'])\n",
    "    df['rate'] = np.where(df['noise_ma'] < 0.6, df['rate'] + 1, df['rate'])\n",
    "    df['rate'] = np.where(df['noise_ma'] < 0.7, df['rate'] + 1, df['rate'])\n",
    "    df['rate'] = df['rate'] / 10\n",
    "\n",
    "    df['trade'] = np.where((df['Open'] < df['prediction_close']) & (df['rate'] > 0) & (df['rsi_shift_1'] > 40), 1, 0)  # rsi가 40이상일 경우에만 거래 진행\n",
    "    df['ror'] = np.where(df['trade'] == 1, 1 + (df['Close'] / df['Open'] - 1) * df['rate'], 1)\n",
    "    df['cr'] = df['ror'].cumprod()\n",
    "    df['mdd'] = (df['cr'].cummax() - df['cr']) / df['cr'].cummax() * 100\n",
    "\n",
    "    return df"
   ]
  },
  {
   "cell_type": "code",
   "execution_count": 65,
   "id": "306675db-e5fd-4553-a0aa-79a65d50bd83",
   "metadata": {},
   "outputs": [],
   "source": [
    "def batch(iterable, batch_size, pt):\n",
    "    \"\"\"\n",
    "    batch row 생성 이터레이터\n",
    "    Args:\n",
    "        iterable: iterable datastructure\n",
    "        batch_size:\n",
    "        pt: prediction term 예측 기간\n",
    "    Returns:\n",
    "        yield: batch row\n",
    "    \"\"\"\n",
    "\n",
    "    l = len(iterable)\n",
    "    for idx, ndx in tqdm(enumerate(range(0, l, pt))):\n",
    "        yield idx, iterable[ndx: min(ndx + batch_size, l)]\n",
    "\n",
    "        \n",
    "def seq2dataset(df,window,horizon):\n",
    "    X=[]; Y=[]\n",
    "    \n",
    "    x_val, y_val = df.drop('Close',axis=1,inplace=False),df['Close']\n",
    "    x_val = x_val.to_numpy()\n",
    "    y_val = y_val.to_numpy()\n",
    "    \n",
    "    for i in range(len(df)-(window+horizon)+1):\n",
    "        x=x_val[i:(i+window)]\n",
    "        y=y_val[i+window+horizon-1]\n",
    "        X.append(x); Y.append(y)\n",
    "    return np.array(X), np.array(Y)\n",
    "\n",
    "        \n",
    "def backtest_lstm_1d(test_df: pd.DataFrame, ft: int, pt: int, plot=True) -> pd.DataFrame:\n",
    "    \"\"\"\n",
    "\n",
    "    Args:\n",
    "        test_df: 1일 봉 데이터\n",
    "        ft: fitting term 피팅 시킬 기간\n",
    "        pt: prediction term 예측 기간\n",
    "        arima_params:\n",
    "    Returns:\n",
    "        df: 예측 값이 열로 포함된 DataFrame\n",
    "    \"\"\"\n",
    "    df = test_df.copy()\n",
    "    df = df.drop('Datetime',axis=1,inplace=False)\n",
    "    \n",
    "    scaler = MinMaxScaler()\n",
    "\n",
    "    # 스케일 후 columns\n",
    "    df = pd.DataFrame(scaler.fit_transform(df[:]),columns=df.columns, index=list(df.index.values))\n",
    "    \n",
    "    batch_size = ft + pt\n",
    "    total_loop = int(len(df) / pt) - 1\n",
    "    result_columns = list(df.columns)\n",
    "    result_columns.append(\"prediction_close\")\n",
    "\n",
    "    result_df = pd.DataFrame(columns=result_columns)\n",
    "\n",
    "    try:\n",
    "        for idx, batch_df in batch(df, batch_size, pt):\n",
    "            \n",
    "            # 윈도우 w와 수평선 h\n",
    "\n",
    "            w = 10   # 윈도우는 이전 요소 몇 개를 볼 것인지\n",
    "            h = 1    # 수평선은 얼마나 먼 미래를 예측할 것인지\n",
    "            \n",
    "            train, test = batch_df[:ft-1], batch_df[ft-w:ft]\n",
    "            X_train, y_train = seq2dataset(train, w, h)\n",
    "            \n",
    "            \n",
    "            #X_train = X_train.reshape((len(X_train), 1, 4))\n",
    "            #y_train = y_train.reshape((len(y_train), 1, 1))\n",
    "            \n",
    "            X_test, y_test = test.drop('Close',axis=1,inplace=False),test['Close']\n",
    "            X_test = X_test.to_numpy()\n",
    "            y_test = y_test.to_numpy()\n",
    "            \n",
    "            X_test = X_test.reshape(pt, w, 4)\n",
    "            y_test = y_test.reshape(pt, w, 1)\n",
    "\n",
    "            # LSTM 모델 구축\n",
    "            model = Sequential()\n",
    "            model.add(LSTM(units=256,activation='tanh',input_shape=X_train[0].shape))\n",
    "            model.add(Dropout(0.2))\n",
    "            model.add(Dense(1))\n",
    "            \n",
    "            # Sequence 학습에 비교적 좋은 퍼포먼스를 내는 Huber()를 사용한다.\n",
    "            loss = Huber()\n",
    "            optimizer = Adam(0.0005)\n",
    "            model.compile(loss=Huber(), optimizer=optimizer, metrics=['mse'])\n",
    "            \n",
    "            # earlystopping은 10번 epoch통안 val_loss 개선이 없다면 학습을 멈춘다.\n",
    "            earlystopping = EarlyStopping(monitor='val_loss', patience=10)\n",
    "            # val_loss 기준 체크포인터도 생성한다.\n",
    "                        \n",
    "            model.fit(X_train,y_train,epochs=100,batch_size=16,validation_split=0.3,callbacks=[earlystopping], verbose=0)  \n",
    "            \n",
    "            # 예측\n",
    "            pred = model.predict(X_test)\n",
    "            \n",
    "            if len(pred) ==0:\n",
    "                break\n",
    "            row = batch_df.iloc[[-1]]\n",
    "            row['prediction_close'] = pred\n",
    "            row['batch_open'] = batch_df.iloc[ft].Open\n",
    "            result_df = pd.concat([result_df, row], axis=0)\n",
    "\n",
    "    except IndexError:\n",
    "        pass\n",
    "    result_df['trade'] = np.where(result_df['batch_open'] < result_df['prediction_close'], 1, 0)\n",
    "    result_df['ror'] = np.where(result_df['trade'] == 1, result_df['Close'] / result_df['batch_open'], 1)\n",
    "    result_df['cr'] = result_df['ror'].cumprod()\n",
    "    result_df['mdd'] = (result_df['cr'].cummax() - result_df['cr']) / result_df['cr'].cummax() * 100\n",
    "\n",
    "    if plot:\n",
    "        plot_result(result_df)\n",
    "        plot_return(result_df)\n",
    "\n",
    "    return result_df\n",
    "\n",
    "def plot_result(df):\n",
    "    plt.figure(figsize=(20, 8))\n",
    "    plt.plot(df.index, df['Close'].values, color='b', label='real close')\n",
    "    plt.plot(df.index, df['prediction_close'].values , color='r', label='prediction close')\n",
    "    plt.legend()\n",
    "    plt.grid(True)\n",
    "    plt.show()\n",
    "\n",
    "def plot_return(df):\n",
    "    plt.figure(figsize=(20, 8))\n",
    "    plt.plot(df.index, df['cr'].values , color='r', label='return')\n",
    "    plt.legend()\n",
    "    plt.title(\n",
    "        f\"mdd: {round(df['mdd'].max(), 2)}\\nreturn_rate: {round(df['cr'].iloc[-1] * 100 - 100, 2)}%\")\n",
    "    plt.grid(True)\n",
    "    plt.show()"
   ]
  },
  {
   "cell_type": "code",
   "execution_count": 66,
   "id": "ad8aa379-b116-46f3-a05d-1f41e3e592d9",
   "metadata": {},
   "outputs": [],
   "source": [
    "with open(\"../btc_usd_1d.pkl\", \"rb\") as f:\n",
    "    df=pickle.load(f)\n",
    "    #df=df.reset_index()\n",
    "    #df.rename({'ot':'Date'},axis=1,inplace=True)"
   ]
  },
  {
   "cell_type": "code",
   "execution_count": 67,
   "id": "db60aac8-0024-4823-805f-f3a537453819",
   "metadata": {},
   "outputs": [],
   "source": [
    "#df.set_index('Date',inplace=True,drop=True)"
   ]
  },
  {
   "cell_type": "code",
   "execution_count": 68,
   "id": "1d23e9a4-55da-4653-ad75-65b926d81bf6",
   "metadata": {
    "tags": []
   },
   "outputs": [
    {
     "name": "stderr",
     "output_type": "stream",
     "text": [
      "1862it [3:15:15,  6.29s/it]\n"
     ]
    },
    {
     "data": {
      "image/png": "[encoded data removed]",
      "text/plain": [
       "<Figure size 1440x576 with 1 Axes>"
      ]
     },
     "metadata": {
      "needs_background": "light"
     },
     "output_type": "display_data"
    },
    {
     "data": {
      "image/png": "[encoded data removed]",
      "text/plain": [
       "<Figure size 1440x576 with 1 Axes>"
      ]
     },
     "metadata": {
      "needs_background": "light"
     },
     "output_type": "display_data"
    }
   ],
   "source": [
    "result_df = backtest_lstm_1d(df, 100, 1)"
   ]
  },
  {
   "cell_type": "code",
   "execution_count": 69,
   "id": "b637d910-a5c6-451d-8e1b-68ad3054617c",
   "metadata": {},
   "outputs": [
    {
     "data": {
      "text/plain": [
       "{'trade_rate': ' 45.70%',\n",
       " 'success_rate': ' 51.12%',\n",
       " 'pnl_rate': ' 1.03',\n",
       " 'mdd': ' 89.37%',\n",
       " 'cr': '-51.96%'}"
      ]
     },
     "execution_count": 69,
     "metadata": {},
     "output_type": "execute_result"
    }
   ],
   "source": [
    "analysis_return(result_df)"
   ]
  },
  {
   "cell_type": "code",
   "execution_count": 70,
   "id": "f4414e5e-8a49-49cc-865b-c32b92c617cb",
   "metadata": {},
   "outputs": [
    {
     "data": {
      "text/html": [
       "<div>\n",
       "<style scoped>\n",
       "    .dataframe tbody tr th:only-of-type {\n",
       "        vertical-align: middle;\n",
       "    }\n",
       "\n",
       "    .dataframe tbody tr th {\n",
       "        vertical-align: top;\n",
       "    }\n",
       "\n",
       "    .dataframe thead th {\n",
       "        text-align: right;\n",
       "    }\n",
       "</style>\n",
       "<table border=\"1\" class=\"dataframe\">\n",
       "  <thead>\n",
       "    <tr style=\"text-align: right;\">\n",
       "      <th></th>\n",
       "      <th>Open</th>\n",
       "      <th>High</th>\n",
       "      <th>Low</th>\n",
       "      <th>Close</th>\n",
       "      <th>Volume</th>\n",
       "      <th>prediction_close</th>\n",
       "      <th>batch_open</th>\n",
       "      <th>trade</th>\n",
       "      <th>ror</th>\n",
       "      <th>cr</th>\n",
       "      <th>mdd</th>\n",
       "    </tr>\n",
       "  </thead>\n",
       "  <tbody>\n",
       "    <tr>\n",
       "      <th>2017-04-11</th>\n",
       "      <td>0.006448</td>\n",
       "      <td>0.005949</td>\n",
       "      <td>0.00682</td>\n",
       "      <td>0.006443</td>\n",
       "      <td>0.005477</td>\n",
       "      <td>0.006731</td>\n",
       "      <td>0.006448</td>\n",
       "      <td>1</td>\n",
       "      <td>0.99912</td>\n",
       "      <td>0.99912</td>\n",
       "      <td>0.0</td>\n",
       "    </tr>\n",
       "    <tr>\n",
       "      <th>2017-04-12</th>\n",
       "      <td>0.006594</td>\n",
       "      <td>0.005884</td>\n",
       "      <td>0.006972</td>\n",
       "      <td>0.006341</td>\n",
       "      <td>0.00547</td>\n",
       "      <td>0.006065</td>\n",
       "      <td>0.006594</td>\n",
       "      <td>0</td>\n",
       "      <td>1</td>\n",
       "      <td>0.99912</td>\n",
       "      <td>0.0</td>\n",
       "    </tr>\n",
       "    <tr>\n",
       "      <th>2017-04-13</th>\n",
       "      <td>0.006492</td>\n",
       "      <td>0.005808</td>\n",
       "      <td>0.005949</td>\n",
       "      <td>0.005753</td>\n",
       "      <td>0.01089</td>\n",
       "      <td>0.005629</td>\n",
       "      <td>0.006492</td>\n",
       "      <td>0</td>\n",
       "      <td>1</td>\n",
       "      <td>0.99912</td>\n",
       "      <td>0.0</td>\n",
       "    </tr>\n",
       "    <tr>\n",
       "      <th>2017-04-14</th>\n",
       "      <td>0.005904</td>\n",
       "      <td>0.00542</td>\n",
       "      <td>0.005964</td>\n",
       "      <td>0.005714</td>\n",
       "      <td>0.013564</td>\n",
       "      <td>0.004624</td>\n",
       "      <td>0.005904</td>\n",
       "      <td>0</td>\n",
       "      <td>1</td>\n",
       "      <td>0.99912</td>\n",
       "      <td>0.0</td>\n",
       "    </tr>\n",
       "    <tr>\n",
       "      <th>2017-04-15</th>\n",
       "      <td>0.005866</td>\n",
       "      <td>0.005413</td>\n",
       "      <td>0.006316</td>\n",
       "      <td>0.005761</td>\n",
       "      <td>0.002755</td>\n",
       "      <td>0.004374</td>\n",
       "      <td>0.005866</td>\n",
       "      <td>0</td>\n",
       "      <td>1</td>\n",
       "      <td>0.99912</td>\n",
       "      <td>0.0</td>\n",
       "    </tr>\n",
       "    <tr>\n",
       "      <th>...</th>\n",
       "      <td>...</td>\n",
       "      <td>...</td>\n",
       "      <td>...</td>\n",
       "      <td>...</td>\n",
       "      <td>...</td>\n",
       "      <td>...</td>\n",
       "      <td>...</td>\n",
       "      <td>...</td>\n",
       "      <td>...</td>\n",
       "      <td>...</td>\n",
       "      <td>...</td>\n",
       "    </tr>\n",
       "    <tr>\n",
       "      <th>2022-05-12</th>\n",
       "      <td>0.423839</td>\n",
       "      <td>0.431725</td>\n",
       "      <td>0.395117</td>\n",
       "      <td>0.422822</td>\n",
       "      <td>0.001249</td>\n",
       "      <td>0.512295</td>\n",
       "      <td>0.423839</td>\n",
       "      <td>1</td>\n",
       "      <td>0.997601</td>\n",
       "      <td>0.467338</td>\n",
       "      <td>80.878942</td>\n",
       "    </tr>\n",
       "    <tr>\n",
       "      <th>2022-05-13</th>\n",
       "      <td>0.422984</td>\n",
       "      <td>0.443688</td>\n",
       "      <td>0.42717</td>\n",
       "      <td>0.42662</td>\n",
       "      <td>0.000657</td>\n",
       "      <td>0.497703</td>\n",
       "      <td>0.422984</td>\n",
       "      <td>1</td>\n",
       "      <td>1.008597</td>\n",
       "      <td>0.471356</td>\n",
       "      <td>80.714561</td>\n",
       "    </tr>\n",
       "    <tr>\n",
       "      <th>2022-05-14</th>\n",
       "      <td>0.426779</td>\n",
       "      <td>0.433122</td>\n",
       "      <td>0.425214</td>\n",
       "      <td>0.438684</td>\n",
       "      <td>0.000409</td>\n",
       "      <td>0.480846</td>\n",
       "      <td>0.426779</td>\n",
       "      <td>1</td>\n",
       "      <td>1.027895</td>\n",
       "      <td>0.484504</td>\n",
       "      <td>80.176598</td>\n",
       "    </tr>\n",
       "    <tr>\n",
       "      <th>2022-05-15</th>\n",
       "      <td>0.43884</td>\n",
       "      <td>0.4494</td>\n",
       "      <td>0.438126</td>\n",
       "      <td>0.457324</td>\n",
       "      <td>0.000436</td>\n",
       "      <td>0.479965</td>\n",
       "      <td>0.438840</td>\n",
       "      <td>1</td>\n",
       "      <td>1.04212</td>\n",
       "      <td>0.504912</td>\n",
       "      <td>79.341636</td>\n",
       "    </tr>\n",
       "    <tr>\n",
       "      <th>2022-05-16</th>\n",
       "      <td>0.457483</td>\n",
       "      <td>0.447426</td>\n",
       "      <td>0.435561</td>\n",
       "      <td>0.435264</td>\n",
       "      <td>0.000255</td>\n",
       "      <td>0.461679</td>\n",
       "      <td>0.457483</td>\n",
       "      <td>1</td>\n",
       "      <td>0.951433</td>\n",
       "      <td>0.48039</td>\n",
       "      <td>80.344959</td>\n",
       "    </tr>\n",
       "  </tbody>\n",
       "</table>\n",
       "<p>1862 rows × 11 columns</p>\n",
       "</div>"
      ],
      "text/plain": [
       "                Open      High       Low     Close    Volume prediction_close  \\\n",
       "2017-04-11  0.006448  0.005949   0.00682  0.006443  0.005477         0.006731   \n",
       "2017-04-12  0.006594  0.005884  0.006972  0.006341   0.00547         0.006065   \n",
       "2017-04-13  0.006492  0.005808  0.005949  0.005753   0.01089         0.005629   \n",
       "2017-04-14  0.005904   0.00542  0.005964  0.005714  0.013564         0.004624   \n",
       "2017-04-15  0.005866  0.005413  0.006316  0.005761  0.002755         0.004374   \n",
       "...              ...       ...       ...       ...       ...              ...   \n",
       "2022-05-12  0.423839  0.431725  0.395117  0.422822  0.001249         0.512295   \n",
       "2022-05-13  0.422984  0.443688   0.42717   0.42662  0.000657         0.497703   \n",
       "2022-05-14  0.426779  0.433122  0.425214  0.438684  0.000409         0.480846   \n",
       "2022-05-15   0.43884    0.4494  0.438126  0.457324  0.000436         0.479965   \n",
       "2022-05-16  0.457483  0.447426  0.435561  0.435264  0.000255         0.461679   \n",
       "\n",
       "            batch_open  trade       ror        cr        mdd  \n",
       "2017-04-11    0.006448      1   0.99912   0.99912        0.0  \n",
       "2017-04-12    0.006594      0         1   0.99912        0.0  \n",
       "2017-04-13    0.006492      0         1   0.99912        0.0  \n",
       "2017-04-14    0.005904      0         1   0.99912        0.0  \n",
       "2017-04-15    0.005866      0         1   0.99912        0.0  \n",
       "...                ...    ...       ...       ...        ...  \n",
       "2022-05-12    0.423839      1  0.997601  0.467338  80.878942  \n",
       "2022-05-13    0.422984      1  1.008597  0.471356  80.714561  \n",
       "2022-05-14    0.426779      1  1.027895  0.484504  80.176598  \n",
       "2022-05-15    0.438840      1   1.04212  0.504912  79.341636  \n",
       "2022-05-16    0.457483      1  0.951433   0.48039  80.344959  \n",
       "\n",
       "[1862 rows x 11 columns]"
      ]
     },
     "execution_count": 70,
     "metadata": {},
     "output_type": "execute_result"
    }
   ],
   "source": [
    "result_df"
   ]
  },
  {
   "cell_type": "code",
   "execution_count": 71,
   "id": "b1315ab6-a166-4c28-aac4-4f5ea70e1fcd",
   "metadata": {},
   "outputs": [],
   "source": [
    "result_df.to_csv(\"0518_1d_LSTM.csv\")"
   ]
  },
  {
   "cell_type": "code",
   "execution_count": 72,
   "id": "e7fbb6c9-c5d4-48e9-931c-a98ded3912f3",
   "metadata": {
    "tags": []
   },
   "outputs": [
    {
     "name": "stdout",
     "output_type": "stream",
     "text": [
      "0.03299980787629596\n"
     ]
    }
   ],
   "source": [
    "from sklearn.metrics import mean_squared_error\n",
    "y=result_df['Close']\n",
    "y_pred=result_df['prediction_close']\n",
    "RMSE = mean_squared_error(y, y_pred)**0.5\n",
    "print(RMSE)"
   ]
  },
  {
   "cell_type": "code",
   "execution_count": 73,
   "id": "2f0f4d1b-44fa-4521-a653-1eb4b4551bbb",
   "metadata": {},
   "outputs": [
    {
     "data": {
      "image/png": "[encoded data removed]",
      "text/plain": [
       "<Figure size 1440x576 with 1 Axes>"
      ]
     },
     "metadata": {
      "needs_background": "light"
     },
     "output_type": "display_data"
    }
   ],
   "source": [
    "result_ma = backtest_ma(result_df)\n",
    "plot_return(result_ma)"
   ]
  },
  {
   "cell_type": "code",
   "execution_count": 78,
   "id": "128baaf9-13ff-4f0f-a3ea-8e64b3ff711c",
   "metadata": {},
   "outputs": [
    {
     "data": {
      "image/png": "[encoded data removed]",
      "text/plain": [
       "<Figure size 1440x576 with 1 Axes>"
      ]
     },
     "metadata": {
      "needs_background": "light"
     },
     "output_type": "display_data"
    }
   ],
   "source": [
    "result_noise = backtest_noise(result_df)\n",
    "plot_return(result_noise)"
   ]
  },
  {
   "cell_type": "code",
   "execution_count": 79,
   "id": "91b82569-42ba-4487-bcf4-9abb8679e02c",
   "metadata": {},
   "outputs": [
    {
     "ename": "KeyError",
     "evalue": "'rate'",
     "output_type": "error",
     "traceback": [
      "\u001b[1;31m---------------------------------------------------------------------------\u001b[0m",
      "\u001b[1;31mKeyError\u001b[0m                                  Traceback (most recent call last)",
      "File \u001b[1;32m~\\miniconda3\\envs\\LSTM_Yoon\\lib\\site-packages\\pandas\\core\\indexes\\base.py:3621\u001b[0m, in \u001b[0;36mIndex.get_loc\u001b[1;34m(self, key, method, tolerance)\u001b[0m\n\u001b[0;32m   3620\u001b[0m \u001b[38;5;28;01mtry\u001b[39;00m:\n\u001b[1;32m-> 3621\u001b[0m     \u001b[38;5;28;01mreturn\u001b[39;00m \u001b[38;5;28;43mself\u001b[39;49m\u001b[38;5;241;43m.\u001b[39;49m\u001b[43m_engine\u001b[49m\u001b[38;5;241;43m.\u001b[39;49m\u001b[43mget_loc\u001b[49m\u001b[43m(\u001b[49m\u001b[43mcasted_key\u001b[49m\u001b[43m)\u001b[49m\n\u001b[0;32m   3622\u001b[0m \u001b[38;5;28;01mexcept\u001b[39;00m \u001b[38;5;167;01mKeyError\u001b[39;00m \u001b[38;5;28;01mas\u001b[39;00m err:\n",
      "File \u001b[1;32m~\\miniconda3\\envs\\LSTM_Yoon\\lib\\site-packages\\pandas\\_libs\\index.pyx:136\u001b[0m, in \u001b[0;36mpandas._libs.index.IndexEngine.get_loc\u001b[1;34m()\u001b[0m\n",
      "File \u001b[1;32m~\\miniconda3\\envs\\LSTM_Yoon\\lib\\site-packages\\pandas\\_libs\\index.pyx:163\u001b[0m, in \u001b[0;36mpandas._libs.index.IndexEngine.get_loc\u001b[1;34m()\u001b[0m\n",
      "File \u001b[1;32mpandas\\_libs\\hashtable_class_helper.pxi:5198\u001b[0m, in \u001b[0;36mpandas._libs.hashtable.PyObjectHashTable.get_item\u001b[1;34m()\u001b[0m\n",
      "File \u001b[1;32mpandas\\_libs\\hashtable_class_helper.pxi:5206\u001b[0m, in \u001b[0;36mpandas._libs.hashtable.PyObjectHashTable.get_item\u001b[1;34m()\u001b[0m\n",
      "\u001b[1;31mKeyError\u001b[0m: 'rate'",
      "\nThe above exception was the direct cause of the following exception:\n",
      "\u001b[1;31mKeyError\u001b[0m                                  Traceback (most recent call last)",
      "Input \u001b[1;32mIn [79]\u001b[0m, in \u001b[0;36m<cell line: 1>\u001b[1;34m()\u001b[0m\n\u001b[1;32m----> 1\u001b[0m result_rsi \u001b[38;5;241m=\u001b[39m \u001b[43mbacktest_rsi\u001b[49m\u001b[43m(\u001b[49m\u001b[43mresult_df\u001b[49m\u001b[43m)\u001b[49m\n\u001b[0;32m      2\u001b[0m plot_return(result_rsi)\n",
      "Input \u001b[1;32mIn [77]\u001b[0m, in \u001b[0;36mbacktest_rsi\u001b[1;34m(test_df)\u001b[0m\n\u001b[0;32m     82\u001b[0m df[\u001b[38;5;124m'\u001b[39m\u001b[38;5;124mrsi_shift_1\u001b[39m\u001b[38;5;124m'\u001b[39m] \u001b[38;5;241m=\u001b[39m df[\u001b[38;5;124m'\u001b[39m\u001b[38;5;124mrsi\u001b[39m\u001b[38;5;124m'\u001b[39m]\u001b[38;5;241m.\u001b[39mshift(\u001b[38;5;241m1\u001b[39m) \u001b[38;5;66;03m# 하루 전의 rsi\u001b[39;00m\n\u001b[0;32m     83\u001b[0m df[\u001b[38;5;124m'\u001b[39m\u001b[38;5;124mtrade\u001b[39m\u001b[38;5;124m'\u001b[39m] \u001b[38;5;241m=\u001b[39m np\u001b[38;5;241m.\u001b[39mwhere((df[\u001b[38;5;124m'\u001b[39m\u001b[38;5;124mOpen\u001b[39m\u001b[38;5;124m'\u001b[39m] \u001b[38;5;241m<\u001b[39m df[\u001b[38;5;124m'\u001b[39m\u001b[38;5;124mprediction_close\u001b[39m\u001b[38;5;124m'\u001b[39m]) \u001b[38;5;241m&\u001b[39m (df[\u001b[38;5;124m'\u001b[39m\u001b[38;5;124mrsi_shift_1\u001b[39m\u001b[38;5;124m'\u001b[39m] \u001b[38;5;241m>\u001b[39m \u001b[38;5;241m40\u001b[39m), \u001b[38;5;241m1\u001b[39m, \u001b[38;5;241m0\u001b[39m)\n\u001b[1;32m---> 84\u001b[0m df[\u001b[38;5;124m'\u001b[39m\u001b[38;5;124mror\u001b[39m\u001b[38;5;124m'\u001b[39m] \u001b[38;5;241m=\u001b[39m np\u001b[38;5;241m.\u001b[39mwhere(df[\u001b[38;5;124m'\u001b[39m\u001b[38;5;124mtrade\u001b[39m\u001b[38;5;124m'\u001b[39m] \u001b[38;5;241m==\u001b[39m \u001b[38;5;241m1\u001b[39m, \u001b[38;5;241m1\u001b[39m \u001b[38;5;241m+\u001b[39m (df[\u001b[38;5;124m'\u001b[39m\u001b[38;5;124mClose\u001b[39m\u001b[38;5;124m'\u001b[39m] \u001b[38;5;241m/\u001b[39m df[\u001b[38;5;124m'\u001b[39m\u001b[38;5;124mOpen\u001b[39m\u001b[38;5;124m'\u001b[39m] \u001b[38;5;241m-\u001b[39m \u001b[38;5;241m1\u001b[39m) \u001b[38;5;241m*\u001b[39m \u001b[43mdf\u001b[49m\u001b[43m[\u001b[49m\u001b[38;5;124;43m'\u001b[39;49m\u001b[38;5;124;43mrate\u001b[39;49m\u001b[38;5;124;43m'\u001b[39;49m\u001b[43m]\u001b[49m, \u001b[38;5;241m1\u001b[39m)\n\u001b[0;32m     85\u001b[0m df[\u001b[38;5;124m'\u001b[39m\u001b[38;5;124mcr\u001b[39m\u001b[38;5;124m'\u001b[39m] \u001b[38;5;241m=\u001b[39m df[\u001b[38;5;124m'\u001b[39m\u001b[38;5;124mror\u001b[39m\u001b[38;5;124m'\u001b[39m]\u001b[38;5;241m.\u001b[39mcumprod()\n\u001b[0;32m     86\u001b[0m df[\u001b[38;5;124m'\u001b[39m\u001b[38;5;124mmdd\u001b[39m\u001b[38;5;124m'\u001b[39m] \u001b[38;5;241m=\u001b[39m (df[\u001b[38;5;124m'\u001b[39m\u001b[38;5;124mcr\u001b[39m\u001b[38;5;124m'\u001b[39m]\u001b[38;5;241m.\u001b[39mcummax() \u001b[38;5;241m-\u001b[39m df[\u001b[38;5;124m'\u001b[39m\u001b[38;5;124mcr\u001b[39m\u001b[38;5;124m'\u001b[39m]) \u001b[38;5;241m/\u001b[39m df[\u001b[38;5;124m'\u001b[39m\u001b[38;5;124mcr\u001b[39m\u001b[38;5;124m'\u001b[39m]\u001b[38;5;241m.\u001b[39mcummax() \u001b[38;5;241m*\u001b[39m \u001b[38;5;241m100\u001b[39m\n",
      "File \u001b[1;32m~\\miniconda3\\envs\\LSTM_Yoon\\lib\\site-packages\\pandas\\core\\frame.py:3505\u001b[0m, in \u001b[0;36mDataFrame.__getitem__\u001b[1;34m(self, key)\u001b[0m\n\u001b[0;32m   3503\u001b[0m \u001b[38;5;28;01mif\u001b[39;00m \u001b[38;5;28mself\u001b[39m\u001b[38;5;241m.\u001b[39mcolumns\u001b[38;5;241m.\u001b[39mnlevels \u001b[38;5;241m>\u001b[39m \u001b[38;5;241m1\u001b[39m:\n\u001b[0;32m   3504\u001b[0m     \u001b[38;5;28;01mreturn\u001b[39;00m \u001b[38;5;28mself\u001b[39m\u001b[38;5;241m.\u001b[39m_getitem_multilevel(key)\n\u001b[1;32m-> 3505\u001b[0m indexer \u001b[38;5;241m=\u001b[39m \u001b[38;5;28;43mself\u001b[39;49m\u001b[38;5;241;43m.\u001b[39;49m\u001b[43mcolumns\u001b[49m\u001b[38;5;241;43m.\u001b[39;49m\u001b[43mget_loc\u001b[49m\u001b[43m(\u001b[49m\u001b[43mkey\u001b[49m\u001b[43m)\u001b[49m\n\u001b[0;32m   3506\u001b[0m \u001b[38;5;28;01mif\u001b[39;00m is_integer(indexer):\n\u001b[0;32m   3507\u001b[0m     indexer \u001b[38;5;241m=\u001b[39m [indexer]\n",
      "File \u001b[1;32m~\\miniconda3\\envs\\LSTM_Yoon\\lib\\site-packages\\pandas\\core\\indexes\\base.py:3623\u001b[0m, in \u001b[0;36mIndex.get_loc\u001b[1;34m(self, key, method, tolerance)\u001b[0m\n\u001b[0;32m   3621\u001b[0m     \u001b[38;5;28;01mreturn\u001b[39;00m \u001b[38;5;28mself\u001b[39m\u001b[38;5;241m.\u001b[39m_engine\u001b[38;5;241m.\u001b[39mget_loc(casted_key)\n\u001b[0;32m   3622\u001b[0m \u001b[38;5;28;01mexcept\u001b[39;00m \u001b[38;5;167;01mKeyError\u001b[39;00m \u001b[38;5;28;01mas\u001b[39;00m err:\n\u001b[1;32m-> 3623\u001b[0m     \u001b[38;5;28;01mraise\u001b[39;00m \u001b[38;5;167;01mKeyError\u001b[39;00m(key) \u001b[38;5;28;01mfrom\u001b[39;00m \u001b[38;5;21;01merr\u001b[39;00m\n\u001b[0;32m   3624\u001b[0m \u001b[38;5;28;01mexcept\u001b[39;00m \u001b[38;5;167;01mTypeError\u001b[39;00m:\n\u001b[0;32m   3625\u001b[0m     \u001b[38;5;66;03m# If we have a listlike key, _check_indexing_error will raise\u001b[39;00m\n\u001b[0;32m   3626\u001b[0m     \u001b[38;5;66;03m#  InvalidIndexError. Otherwise we fall through and re-raise\u001b[39;00m\n\u001b[0;32m   3627\u001b[0m     \u001b[38;5;66;03m#  the TypeError.\u001b[39;00m\n\u001b[0;32m   3628\u001b[0m     \u001b[38;5;28mself\u001b[39m\u001b[38;5;241m.\u001b[39m_check_indexing_error(key)\n",
      "\u001b[1;31mKeyError\u001b[0m: 'rate'"
     ]
    }
   ],
   "source": [
    "result_rsi = backtest_rsi(result_df)\n",
    "plot_return(result_rsi)"
   ]
  },
  {
   "cell_type": "code",
   "execution_count": 80,
   "id": "37ea0d2e-e8d3-446d-92c5-c7850072b222",
   "metadata": {},
   "outputs": [
    {
     "data": {
      "image/png": "[encoded data removed]",
      "text/plain": [
       "<Figure size 1440x576 with 1 Axes>"
      ]
     },
     "metadata": {
      "needs_background": "light"
     },
     "output_type": "display_data"
    }
   ],
   "source": [
    "result_ma_noise = backtest_ma_and_noise(result_df)\n",
    "plot_return(result_ma_noise)"
   ]
  },
  {
   "cell_type": "code",
   "execution_count": null,
   "id": "b0c46ac0-6b35-4053-b32b-9e7f40d751b2",
   "metadata": {},
   "outputs": [],
   "source": [
    "result_ma_rsi = backtest_ma_and_rsi(result_df)\n",
    "plot_return(result_ma_rsi)"
   ]
  },
  {
   "cell_type": "code",
   "execution_count": null,
   "id": "1e1878c3-449f-4e9a-8060-d07c9b0e5138",
   "metadata": {},
   "outputs": [],
   "source": [
    "result_ma_noise_rsi = backtest_ma_and_rsi_and_noise(result_df)\n",
    "plot_return(result_noise_rsi)"
   ]
  },
  {
   "cell_type": "markdown",
   "id": "a0ace9c7-a9fc-4ed6-9587-87a28f0e4366",
   "metadata": {},
   "source": [
    "# 문제점 (5월 12일 09:38 기준)\n",
    "###\n",
    "### MinMax Scaling으로 데이터셋을 전처리한 후 모든 내용을 일괄 수행하다 보니, \n",
    "### 수익률 측정도 MinMax Scaling 처리된 값을 기준으로 진행되어, 실제 값과 다를 수 있음\n",
    "### 수익률을 개선하기 위해 LSTM의 unit수를 대폭 증가시키고, overfitting을 방지하기 위해 Dropout을 사용했으나, 이전의 모델보다 현저히 낮은 수익률을 보이고 있음."
   ]
  },
  {
   "cell_type": "code",
   "execution_count": null,
   "id": "42547cf5-60ff-4a1c-aee6-d5bcbe757f0b",
   "metadata": {},
   "outputs": [],
   "source": []
  }
 ],
 "metadata": {
  "kernelspec": {
   "display_name": "LSTM_Yoon",
   "language": "python",
   "name": "lstm_yoon"
  },
  "language_info": {
   "codemirror_mode": {
    "name": "ipython",
    "version": 3
   },
   "file_extension": ".py",
   "mimetype": "text/x-python",
   "name": "python",
   "nbconvert_exporter": "python",
   "pygments_lexer": "ipython3",
   "version": "3.8.13"
  }
 },
 "nbformat": 4,
 "nbformat_minor": 5
}
